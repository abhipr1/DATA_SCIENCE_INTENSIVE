{
 "cells": [
  {
   "cell_type": "code",
   "execution_count": 1,
   "metadata": {
    "collapsed": true
   },
   "outputs": [],
   "source": [
    "import requests"
   ]
  },
  {
   "cell_type": "markdown",
   "metadata": {},
   "source": [
    "- Latest version of BeautifulSoup is no longer called BeautifulSoup, but instead bs4."
   ]
  },
  {
   "cell_type": "code",
   "execution_count": 3,
   "metadata": {
    "collapsed": false
   },
   "outputs": [],
   "source": [
    "from bs4 import BeautifulSoup"
   ]
  },
  {
   "cell_type": "code",
   "execution_count": 4,
   "metadata": {
    "collapsed": true
   },
   "outputs": [],
   "source": [
    "from sklearn.feature_extraction.text import CountVectorizer"
   ]
  },
  {
   "cell_type": "markdown",
   "metadata": {},
   "source": [
    "- Grab data scinece jobs in San Francisco, CA  from [Indeed](http://www.indeed.com/jobs?q=Data+Scientist&l=San+Francisco%2C+CA&rs=1)"
   ]
  },
  {
   "cell_type": "code",
   "execution_count": 11,
   "metadata": {
    "collapsed": false
   },
   "outputs": [
    {
     "name": "stdout",
     "output_type": "stream",
     "text": [
      "1000  Job descriptions\n"
     ]
    }
   ],
   "source": [
    "texts = []\n",
    "for i in range(0, 1000, 10):\n",
    "    soup = BeautifulSoup(requests.get('http://www.indeed.com/jobs?q=Data+Scientist&l=San+Francisco,+CA&start='+str(i)).text)\n",
    "    texts += [a.text for a in soup.findAll('span',{'class':'summary'})]\n",
    "print (len(texts), \" Job descriptions\")"
   ]
  },
  {
   "cell_type": "code",
   "execution_count": 12,
   "metadata": {
    "collapsed": false
   },
   "outputs": [
    {
     "data": {
      "text/plain": [
       "'\\nPig, Hive, Hadoop, Python, R, SQL to wrangle large data sets into actionable insights. Work closely with the predictive analytics, data acquisition, customer...'"
      ]
     },
     "execution_count": 12,
     "metadata": {},
     "output_type": "execute_result"
    }
   ],
   "source": [
    "texts[0]"
   ]
  },
  {
   "cell_type": "code",
   "execution_count": 15,
   "metadata": {
    "collapsed": false
   },
   "outputs": [
    {
     "data": {
      "text/plain": [
       "15825"
      ]
     },
     "execution_count": 15,
     "metadata": {},
     "output_type": "execute_result"
    }
   ],
   "source": [
    "vect = CountVectorizer(ngram_range=(1,3), stop_words='english')\n",
    "matrix = vect.fit_transform(texts)\n",
    "len(vect.get_feature_names())"
   ]
  },
  {
   "cell_type": "code",
   "execution_count": 20,
   "metadata": {
    "collapsed": false
   },
   "outputs": [
    {
     "data": {
      "text/plain": [
       "['000',\n",
       " '000 data',\n",
       " '000 data scientists',\n",
       " '000 developers',\n",
       " '000 developers designers',\n",
       " '10',\n",
       " '10 gigabytes',\n",
       " '10 gigabytes second',\n",
       " '10 research',\n",
       " '10 research groups',\n",
       " '10 years',\n",
       " '10 years bachelor',\n",
       " '100',\n",
       " '100 promising',\n",
       " '100 promising companies',\n",
       " '100 year',\n",
       " '100 year old',\n",
       " '10b',\n",
       " '10b 100',\n",
       " '10b 100 year']"
      ]
     },
     "execution_count": 20,
     "metadata": {},
     "output_type": "execute_result"
    }
   ],
   "source": [
    "vect.get_feature_names()[:20]"
   ]
  },
  {
   "cell_type": "code",
   "execution_count": 39,
   "metadata": {
    "collapsed": false
   },
   "outputs": [],
   "source": [
    "freq = [(word, matrix.getcol(idx).sum()) for word, idx in vect.vocabulary_.items()]"
   ]
  },
  {
   "cell_type": "code",
   "execution_count": 41,
   "metadata": {
    "collapsed": false
   },
   "outputs": [
    {
     "name": "stdout",
     "output_type": "stream",
     "text": [
      "data 808\n",
      "scientists 361\n",
      "clinical 190\n",
      "scientific 161\n",
      "experience 161\n",
      "scientist 151\n",
      "team 141\n",
      "analytics 139\n",
      "machine 136\n",
      "learning 135\n",
      "data scientists 132\n",
      "machine learning 129\n",
      "engineers 123\n",
      "work 116\n",
      "analysis 106\n",
      "research 98\n",
      "health 88\n",
      "development 84\n",
      "data scientist 83\n",
      "world 74\n",
      "statistical 73\n",
      "mining 66\n",
      "data mining 65\n",
      "project 64\n",
      "laboratory 63\n"
     ]
    }
   ],
   "source": [
    "# sort from largest to smallest \n",
    "for phrase, times in sorted(freq, key = lambda x: -x[1])[:25]:\n",
    "    print (phrase, times)"
   ]
  },
  {
   "cell_type": "code",
   "execution_count": null,
   "metadata": {
    "collapsed": true
   },
   "outputs": [],
   "source": []
  },
  {
   "cell_type": "code",
   "execution_count": null,
   "metadata": {
    "collapsed": true
   },
   "outputs": [],
   "source": []
  },
  {
   "cell_type": "code",
   "execution_count": null,
   "metadata": {
    "collapsed": true
   },
   "outputs": [],
   "source": []
  },
  {
   "cell_type": "code",
   "execution_count": null,
   "metadata": {
    "collapsed": true
   },
   "outputs": [],
   "source": []
  },
  {
   "cell_type": "code",
   "execution_count": null,
   "metadata": {
    "collapsed": true
   },
   "outputs": [],
   "source": []
  },
  {
   "cell_type": "code",
   "execution_count": null,
   "metadata": {
    "collapsed": true
   },
   "outputs": [],
   "source": []
  },
  {
   "cell_type": "code",
   "execution_count": null,
   "metadata": {
    "collapsed": true
   },
   "outputs": [],
   "source": []
  },
  {
   "cell_type": "code",
   "execution_count": null,
   "metadata": {
    "collapsed": true
   },
   "outputs": [],
   "source": []
  },
  {
   "cell_type": "code",
   "execution_count": null,
   "metadata": {
    "collapsed": true
   },
   "outputs": [],
   "source": []
  },
  {
   "cell_type": "code",
   "execution_count": null,
   "metadata": {
    "collapsed": true
   },
   "outputs": [],
   "source": []
  },
  {
   "cell_type": "code",
   "execution_count": null,
   "metadata": {
    "collapsed": true
   },
   "outputs": [],
   "source": []
  },
  {
   "cell_type": "code",
   "execution_count": null,
   "metadata": {
    "collapsed": true
   },
   "outputs": [],
   "source": []
  },
  {
   "cell_type": "code",
   "execution_count": null,
   "metadata": {
    "collapsed": true
   },
   "outputs": [],
   "source": []
  }
 ],
 "metadata": {
  "kernelspec": {
   "display_name": "Python 3",
   "language": "python",
   "name": "python3"
  },
  "language_info": {
   "codemirror_mode": {
    "name": "ipython",
    "version": 3
   },
   "file_extension": ".py",
   "mimetype": "text/x-python",
   "name": "python",
   "nbconvert_exporter": "python",
   "pygments_lexer": "ipython3",
   "version": "3.4.3"
  }
 },
 "nbformat": 4,
 "nbformat_minor": 0
}
