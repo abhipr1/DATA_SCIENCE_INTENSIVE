{
 "cells": [
  {
   "cell_type": "code",
   "execution_count": 139,
   "metadata": {
    "collapsed": false
   },
   "outputs": [],
   "source": [
    "%matplotlib inline\n",
    "from data_handler import *\n",
    "import matplotlib.pyplot as plt\n",
    "import seaborn\n",
    "from sklearn import preprocessing\n",
    "import datetime\n",
    "from sklearn.metrics import mean_squared_error, r2_score\n",
    "from sklearn.ensemble import RandomForestRegressor\n",
    "from sklearn.ensemble import AdaBoostRegressor\n",
    "from sklearn.ensemble import GradientBoostingRegressor\n",
    "from sklearn.neighbors import KNeighborsRegressor\n",
    "from sklearn.ensemble import RandomForestClassifier\n",
    "from sklearn import neighbors\n",
    "from sklearn.ensemble import AdaBoostClassifier\n",
    "from sklearn.ensemble import GradientBoostingClassifier\n",
    "from sklearn.svm import SVR\n",
    "from sklearn.svm import SVC"
   ]
  },
  {
   "cell_type": "code",
   "execution_count": 97,
   "metadata": {
    "collapsed": true
   },
   "outputs": [],
   "source": [
    "start_date='2000-01-01'\n",
    "end_date='2015-09-24'"
   ]
  },
  {
   "cell_type": "code",
   "execution_count": 98,
   "metadata": {
    "collapsed": true
   },
   "outputs": [],
   "source": [
    "symbols=['YAHOO/INDEX_DJI','NSE/CNX_NIFTY', \n",
    "        'YAHOO/INDEX_HSI', 'YAHOO/INDEX_N225', \n",
    "        'YAHOO/INDEX_AXJO', 'YAHOO/SS_000001',\n",
    "        '^FTSE', '^IXIC', '^DJI']"
   ]
  },
  {
   "cell_type": "code",
   "execution_count": 99,
   "metadata": {
    "collapsed": false
   },
   "outputs": [],
   "source": [
    "def load_dataset():\n",
    "    #download_and_save_data(symbols, start_date, end_date)\n",
    "    nifty=get_date_from_file('./Data/CNX_NIFTY_'+start_date+'_'+end_date+'.csv')\n",
    "    hsi=get_date_from_file('./Data/INDEX_HSI_'+start_date+'_'+end_date+'.csv')\n",
    "    japan=get_date_from_file('./Data/INDEX_N225_'+start_date+'_'+end_date+'.csv')\n",
    "    aus=get_date_from_file('./Data/INDEX_AXJO_'+start_date+'_'+end_date+'.csv')\n",
    "    sanghai=get_date_from_file('./Data/SS_000001_'+start_date+'_'+end_date+'.csv')\n",
    "    london=get_date_from_file('./Data/FTSE_'+start_date+'_'+end_date+'.csv')\n",
    "    dow=get_date_from_file('./Data/INDEX_DJI_'+start_date+'_'+end_date+'.csv')\n",
    "    nasdqa=get_date_from_file('./Data/IXIC_'+start_date+'_'+end_date+'.csv')\n",
    "    \n",
    "    return [nifty, hsi, japan, aus, sanghai, london, dow, nasdqa ]"
   ]
  },
  {
   "cell_type": "code",
   "execution_count": 100,
   "metadata": {
    "collapsed": false
   },
   "outputs": [],
   "source": [
    "def daily_return(data):\n",
    "    data['Daily Return']=data['AdjClose'].pct_change()\n",
    "    return data"
   ]
  },
  {
   "cell_type": "code",
   "execution_count": 101,
   "metadata": {
    "collapsed": false
   },
   "outputs": [
    {
     "data": {
      "text/html": [
       "<div>\n",
       "<table border=\"1\" class=\"dataframe\">\n",
       "  <thead>\n",
       "    <tr style=\"text-align: right;\">\n",
       "      <th></th>\n",
       "      <th>Open_CNX_NIFTY</th>\n",
       "      <th>High_CNX_NIFTY</th>\n",
       "      <th>Low_CNX_NIFTY</th>\n",
       "      <th>Close_CNX_NIFTY</th>\n",
       "      <th>AdjClose_CNX_NIFTY</th>\n",
       "      <th>Return_CNX_NIFTY</th>\n",
       "    </tr>\n",
       "    <tr>\n",
       "      <th>Date</th>\n",
       "      <th></th>\n",
       "      <th></th>\n",
       "      <th></th>\n",
       "      <th></th>\n",
       "      <th></th>\n",
       "      <th></th>\n",
       "    </tr>\n",
       "  </thead>\n",
       "  <tbody>\n",
       "    <tr>\n",
       "      <th>2000-01-03</th>\n",
       "      <td>1482.15</td>\n",
       "      <td>1592.90</td>\n",
       "      <td>1482.15</td>\n",
       "      <td>1592.2</td>\n",
       "      <td>884.15</td>\n",
       "      <td>NaN</td>\n",
       "    </tr>\n",
       "    <tr>\n",
       "      <th>2000-01-04</th>\n",
       "      <td>1594.40</td>\n",
       "      <td>1641.95</td>\n",
       "      <td>1594.40</td>\n",
       "      <td>1638.7</td>\n",
       "      <td>1973.69</td>\n",
       "      <td>1.232302</td>\n",
       "    </tr>\n",
       "    <tr>\n",
       "      <th>2000-01-05</th>\n",
       "      <td>1634.55</td>\n",
       "      <td>1635.50</td>\n",
       "      <td>1555.05</td>\n",
       "      <td>1595.8</td>\n",
       "      <td>3084.79</td>\n",
       "      <td>0.562956</td>\n",
       "    </tr>\n",
       "    <tr>\n",
       "      <th>2000-01-06</th>\n",
       "      <td>1595.80</td>\n",
       "      <td>1639.00</td>\n",
       "      <td>1595.80</td>\n",
       "      <td>1617.6</td>\n",
       "      <td>2531.18</td>\n",
       "      <td>-0.179464</td>\n",
       "    </tr>\n",
       "    <tr>\n",
       "      <th>2000-01-07</th>\n",
       "      <td>1616.60</td>\n",
       "      <td>1628.25</td>\n",
       "      <td>1597.20</td>\n",
       "      <td>1613.3</td>\n",
       "      <td>1914.63</td>\n",
       "      <td>-0.243582</td>\n",
       "    </tr>\n",
       "  </tbody>\n",
       "</table>\n",
       "</div>"
      ],
      "text/plain": [
       "            Open_CNX_NIFTY  High_CNX_NIFTY  Low_CNX_NIFTY  Close_CNX_NIFTY  \\\n",
       "Date                                                                         \n",
       "2000-01-03         1482.15         1592.90        1482.15           1592.2   \n",
       "2000-01-04         1594.40         1641.95        1594.40           1638.7   \n",
       "2000-01-05         1634.55         1635.50        1555.05           1595.8   \n",
       "2000-01-06         1595.80         1639.00        1595.80           1617.6   \n",
       "2000-01-07         1616.60         1628.25        1597.20           1613.3   \n",
       "\n",
       "            AdjClose_CNX_NIFTY  Return_CNX_NIFTY  \n",
       "Date                                              \n",
       "2000-01-03              884.15               NaN  \n",
       "2000-01-04             1973.69          1.232302  \n",
       "2000-01-05             3084.79          0.562956  \n",
       "2000-01-06             2531.18         -0.179464  \n",
       "2000-01-07             1914.63         -0.243582  "
      ]
     },
     "execution_count": 101,
     "metadata": {},
     "output_type": "execute_result"
    }
   ],
   "source": [
    "datasets = load_dataset()\n",
    "datasets[0].head()"
   ]
  },
  {
   "cell_type": "code",
   "execution_count": 102,
   "metadata": {
    "collapsed": false
   },
   "outputs": [
    {
     "data": {
      "text/html": [
       "<div>\n",
       "<table border=\"1\" class=\"dataframe\">\n",
       "  <thead>\n",
       "    <tr style=\"text-align: right;\">\n",
       "      <th></th>\n",
       "      <th>Open_CNX_NIFTY</th>\n",
       "      <th>High_CNX_NIFTY</th>\n",
       "      <th>Low_CNX_NIFTY</th>\n",
       "      <th>Close_CNX_NIFTY</th>\n",
       "      <th>AdjClose_CNX_NIFTY</th>\n",
       "      <th>Return_CNX_NIFTY</th>\n",
       "    </tr>\n",
       "    <tr>\n",
       "      <th>Date</th>\n",
       "      <th></th>\n",
       "      <th></th>\n",
       "      <th></th>\n",
       "      <th></th>\n",
       "      <th></th>\n",
       "      <th></th>\n",
       "    </tr>\n",
       "  </thead>\n",
       "  <tbody>\n",
       "    <tr>\n",
       "      <th>2000-01-03</th>\n",
       "      <td>1482.15</td>\n",
       "      <td>1592.90</td>\n",
       "      <td>1482.15</td>\n",
       "      <td>1592.2</td>\n",
       "      <td>884.15</td>\n",
       "      <td>NaN</td>\n",
       "    </tr>\n",
       "    <tr>\n",
       "      <th>2000-01-04</th>\n",
       "      <td>1594.40</td>\n",
       "      <td>1641.95</td>\n",
       "      <td>1594.40</td>\n",
       "      <td>1638.7</td>\n",
       "      <td>1973.69</td>\n",
       "      <td>1.232302</td>\n",
       "    </tr>\n",
       "    <tr>\n",
       "      <th>2000-01-05</th>\n",
       "      <td>1634.55</td>\n",
       "      <td>1635.50</td>\n",
       "      <td>1555.05</td>\n",
       "      <td>1595.8</td>\n",
       "      <td>3084.79</td>\n",
       "      <td>0.562956</td>\n",
       "    </tr>\n",
       "    <tr>\n",
       "      <th>2000-01-06</th>\n",
       "      <td>1595.80</td>\n",
       "      <td>1639.00</td>\n",
       "      <td>1595.80</td>\n",
       "      <td>1617.6</td>\n",
       "      <td>2531.18</td>\n",
       "      <td>-0.179464</td>\n",
       "    </tr>\n",
       "    <tr>\n",
       "      <th>2000-01-07</th>\n",
       "      <td>1616.60</td>\n",
       "      <td>1628.25</td>\n",
       "      <td>1597.20</td>\n",
       "      <td>1613.3</td>\n",
       "      <td>1914.63</td>\n",
       "      <td>-0.243582</td>\n",
       "    </tr>\n",
       "  </tbody>\n",
       "</table>\n",
       "</div>"
      ],
      "text/plain": [
       "            Open_CNX_NIFTY  High_CNX_NIFTY  Low_CNX_NIFTY  Close_CNX_NIFTY  \\\n",
       "Date                                                                         \n",
       "2000-01-03         1482.15         1592.90        1482.15           1592.2   \n",
       "2000-01-04         1594.40         1641.95        1594.40           1638.7   \n",
       "2000-01-05         1634.55         1635.50        1555.05           1595.8   \n",
       "2000-01-06         1595.80         1639.00        1595.80           1617.6   \n",
       "2000-01-07         1616.60         1628.25        1597.20           1613.3   \n",
       "\n",
       "            AdjClose_CNX_NIFTY  Return_CNX_NIFTY  \n",
       "Date                                              \n",
       "2000-01-03              884.15               NaN  \n",
       "2000-01-04             1973.69          1.232302  \n",
       "2000-01-05             3084.79          0.562956  \n",
       "2000-01-06             2531.18         -0.179464  \n",
       "2000-01-07             1914.63         -0.243582  "
      ]
     },
     "execution_count": 102,
     "metadata": {},
     "output_type": "execute_result"
    }
   ],
   "source": [
    "datasets[0].head(5)"
   ]
  },
  {
   "cell_type": "code",
   "execution_count": 103,
   "metadata": {
    "collapsed": true
   },
   "outputs": [],
   "source": [
    "def add_features(dataframe, adjclose, returns, n):\n",
    "    return_n = adjclose[9:] + \"_Time\" + str(n)\n",
    "    dataframe[return_n] = dataframe[adjclose].pct_change(n)\n",
    "    \n",
    "    roll_n = returns[7:] + \"_MA\" + str(n)\n",
    "    dataframe[roll_n] = pd.rolling_mean(dataframe[returns], n)"
   ]
  },
  {
   "cell_type": "code",
   "execution_count": 104,
   "metadata": {
    "collapsed": true
   },
   "outputs": [],
   "source": [
    "def moving_average_and_delayed_returns(datasets, delta):\n",
    "    for dataset in datasets:\n",
    "        columns = dataset.columns    \n",
    "        adjclose = columns[-2]\n",
    "        returns = columns[-1]\n",
    "        for n in delta:\n",
    "            add_features(dataset, adjclose, returns, n)\n",
    "        #print(dataset.head())    \n",
    "    #return datasets    "
   ]
  },
  {
   "cell_type": "code",
   "execution_count": 105,
   "metadata": {
    "collapsed": false
   },
   "outputs": [],
   "source": [
    "moving_average_and_delayed_returns(datasets, [5,20])"
   ]
  },
  {
   "cell_type": "code",
   "execution_count": 106,
   "metadata": {
    "collapsed": false
   },
   "outputs": [],
   "source": []
  },
  {
   "cell_type": "code",
   "execution_count": 107,
   "metadata": {
    "collapsed": false
   },
   "outputs": [
    {
     "data": {
      "text/plain": [
       "<matplotlib.axes._subplots.AxesSubplot at 0x7f65c08edfd0>"
      ]
     },
     "execution_count": 107,
     "metadata": {},
     "output_type": "execute_result"
    },
    {
     "data": {
      "image/png": "[encoded data removed]",
      "text/plain": [
       "<matplotlib.figure.Figure at 0x7f65c411b160>"
      ]
     },
     "metadata": {},
     "output_type": "display_data"
    }
   ],
   "source": [
    "datasets[0].Return_CNX_NIFTY.plot()"
   ]
  },
  {
   "cell_type": "code",
   "execution_count": 108,
   "metadata": {
    "collapsed": false
   },
   "outputs": [],
   "source": [
    "def merge_data_frames(datasets, index):\n",
    "    subset = []\n",
    "    subset = [dataset.iloc[:, index:] for dataset in datasets[1:]]\n",
    "    return datasets[0].iloc[:, index:].join(subset, how = 'outer')\n",
    "   "
   ]
  },
  {
   "cell_type": "code",
   "execution_count": 109,
   "metadata": {
    "collapsed": false,
    "scrolled": true
   },
   "outputs": [
    {
     "data": {
      "text/html": [
       "<div>\n",
       "<table border=\"1\" class=\"dataframe\">\n",
       "  <thead>\n",
       "    <tr style=\"text-align: right;\">\n",
       "      <th></th>\n",
       "      <th>Return_CNX_NIFTY</th>\n",
       "      <th>CNX_NIFTY_Time5</th>\n",
       "      <th>CNX_NIFTY_MA5</th>\n",
       "      <th>CNX_NIFTY_Time20</th>\n",
       "      <th>CNX_NIFTY_MA20</th>\n",
       "      <th>Return_INDEX_HSI</th>\n",
       "      <th>INDEX_HSI_Time5</th>\n",
       "      <th>INDEX_HSI_MA5</th>\n",
       "      <th>INDEX_HSI_Time20</th>\n",
       "      <th>INDEX_HSI_MA20</th>\n",
       "      <th>...</th>\n",
       "      <th>Return_INDEX_DJI</th>\n",
       "      <th>INDEX_DJI_Time5</th>\n",
       "      <th>INDEX_DJI_MA5</th>\n",
       "      <th>INDEX_DJI_Time20</th>\n",
       "      <th>INDEX_DJI_MA20</th>\n",
       "      <th>Return_IXIC</th>\n",
       "      <th>IXIC_Time5</th>\n",
       "      <th>IXIC_MA5</th>\n",
       "      <th>IXIC_Time20</th>\n",
       "      <th>IXIC_MA20</th>\n",
       "    </tr>\n",
       "  </thead>\n",
       "  <tbody>\n",
       "    <tr>\n",
       "      <th>2000-01-03</th>\n",
       "      <td>NaN</td>\n",
       "      <td>NaN</td>\n",
       "      <td>NaN</td>\n",
       "      <td>NaN</td>\n",
       "      <td>NaN</td>\n",
       "      <td>NaN</td>\n",
       "      <td>NaN</td>\n",
       "      <td>NaN</td>\n",
       "      <td>NaN</td>\n",
       "      <td>NaN</td>\n",
       "      <td>...</td>\n",
       "      <td>NaN</td>\n",
       "      <td>NaN</td>\n",
       "      <td>NaN</td>\n",
       "      <td>NaN</td>\n",
       "      <td>NaN</td>\n",
       "      <td>NaN</td>\n",
       "      <td>NaN</td>\n",
       "      <td>NaN</td>\n",
       "      <td>NaN</td>\n",
       "      <td>NaN</td>\n",
       "    </tr>\n",
       "    <tr>\n",
       "      <th>2000-01-04</th>\n",
       "      <td>1.232302</td>\n",
       "      <td>NaN</td>\n",
       "      <td>NaN</td>\n",
       "      <td>NaN</td>\n",
       "      <td>NaN</td>\n",
       "      <td>-0.017088</td>\n",
       "      <td>NaN</td>\n",
       "      <td>NaN</td>\n",
       "      <td>NaN</td>\n",
       "      <td>NaN</td>\n",
       "      <td>...</td>\n",
       "      <td>-0.031662</td>\n",
       "      <td>NaN</td>\n",
       "      <td>NaN</td>\n",
       "      <td>NaN</td>\n",
       "      <td>NaN</td>\n",
       "      <td>-0.055544</td>\n",
       "      <td>NaN</td>\n",
       "      <td>NaN</td>\n",
       "      <td>NaN</td>\n",
       "      <td>NaN</td>\n",
       "    </tr>\n",
       "  </tbody>\n",
       "</table>\n",
       "<p>2 rows × 40 columns</p>\n",
       "</div>"
      ],
      "text/plain": [
       "            Return_CNX_NIFTY  CNX_NIFTY_Time5  CNX_NIFTY_MA5  \\\n",
       "2000-01-03               NaN              NaN            NaN   \n",
       "2000-01-04          1.232302              NaN            NaN   \n",
       "\n",
       "            CNX_NIFTY_Time20  CNX_NIFTY_MA20  Return_INDEX_HSI  \\\n",
       "2000-01-03               NaN             NaN               NaN   \n",
       "2000-01-04               NaN             NaN         -0.017088   \n",
       "\n",
       "            INDEX_HSI_Time5  INDEX_HSI_MA5  INDEX_HSI_Time20  INDEX_HSI_MA20  \\\n",
       "2000-01-03              NaN            NaN               NaN             NaN   \n",
       "2000-01-04              NaN            NaN               NaN             NaN   \n",
       "\n",
       "              ...      Return_INDEX_DJI  INDEX_DJI_Time5  INDEX_DJI_MA5  \\\n",
       "2000-01-03    ...                   NaN              NaN            NaN   \n",
       "2000-01-04    ...             -0.031662              NaN            NaN   \n",
       "\n",
       "            INDEX_DJI_Time20  INDEX_DJI_MA20  Return_IXIC  IXIC_Time5  \\\n",
       "2000-01-03               NaN             NaN          NaN         NaN   \n",
       "2000-01-04               NaN             NaN    -0.055544         NaN   \n",
       "\n",
       "            IXIC_MA5  IXIC_Time20  IXIC_MA20  \n",
       "2000-01-03       NaN          NaN        NaN  \n",
       "2000-01-04       NaN          NaN        NaN  \n",
       "\n",
       "[2 rows x 40 columns]"
      ]
     },
     "execution_count": 109,
     "metadata": {},
     "output_type": "execute_result"
    }
   ],
   "source": [
    "merged_data=merge_data_frames(datasets, 5)\n",
    "merged_data.head(2)"
   ]
  },
  {
   "cell_type": "code",
   "execution_count": 110,
   "metadata": {
    "collapsed": false
   },
   "outputs": [
    {
     "data": {
      "text/html": [
       "<div>\n",
       "<table border=\"1\" class=\"dataframe\">\n",
       "  <thead>\n",
       "    <tr style=\"text-align: right;\">\n",
       "      <th></th>\n",
       "      <th>Return_CNX_NIFTY</th>\n",
       "      <th>CNX_NIFTY_Time5</th>\n",
       "      <th>CNX_NIFTY_MA5</th>\n",
       "      <th>CNX_NIFTY_Time20</th>\n",
       "      <th>CNX_NIFTY_MA20</th>\n",
       "      <th>Return_INDEX_HSI</th>\n",
       "      <th>INDEX_HSI_Time5</th>\n",
       "      <th>INDEX_HSI_MA5</th>\n",
       "      <th>INDEX_HSI_Time20</th>\n",
       "      <th>INDEX_HSI_MA20</th>\n",
       "      <th>...</th>\n",
       "      <th>Return_INDEX_DJI</th>\n",
       "      <th>INDEX_DJI_Time5</th>\n",
       "      <th>INDEX_DJI_MA5</th>\n",
       "      <th>INDEX_DJI_Time20</th>\n",
       "      <th>INDEX_DJI_MA20</th>\n",
       "      <th>Return_IXIC</th>\n",
       "      <th>IXIC_Time5</th>\n",
       "      <th>IXIC_MA5</th>\n",
       "      <th>IXIC_Time20</th>\n",
       "      <th>IXIC_MA20</th>\n",
       "    </tr>\n",
       "  </thead>\n",
       "  <tbody>\n",
       "    <tr>\n",
       "      <th>2000-01-03</th>\n",
       "      <td>NaN</td>\n",
       "      <td>NaN</td>\n",
       "      <td>NaN</td>\n",
       "      <td>NaN</td>\n",
       "      <td>NaN</td>\n",
       "      <td>NaN</td>\n",
       "      <td>NaN</td>\n",
       "      <td>NaN</td>\n",
       "      <td>NaN</td>\n",
       "      <td>NaN</td>\n",
       "      <td>...</td>\n",
       "      <td>NaN</td>\n",
       "      <td>NaN</td>\n",
       "      <td>NaN</td>\n",
       "      <td>NaN</td>\n",
       "      <td>NaN</td>\n",
       "      <td>NaN</td>\n",
       "      <td>NaN</td>\n",
       "      <td>NaN</td>\n",
       "      <td>NaN</td>\n",
       "      <td>NaN</td>\n",
       "    </tr>\n",
       "    <tr>\n",
       "      <th>2000-01-04</th>\n",
       "      <td>1.232302</td>\n",
       "      <td>NaN</td>\n",
       "      <td>NaN</td>\n",
       "      <td>NaN</td>\n",
       "      <td>NaN</td>\n",
       "      <td>-0.017088</td>\n",
       "      <td>NaN</td>\n",
       "      <td>NaN</td>\n",
       "      <td>NaN</td>\n",
       "      <td>NaN</td>\n",
       "      <td>...</td>\n",
       "      <td>-0.031662</td>\n",
       "      <td>NaN</td>\n",
       "      <td>NaN</td>\n",
       "      <td>NaN</td>\n",
       "      <td>NaN</td>\n",
       "      <td>-0.055544</td>\n",
       "      <td>NaN</td>\n",
       "      <td>NaN</td>\n",
       "      <td>NaN</td>\n",
       "      <td>NaN</td>\n",
       "    </tr>\n",
       "  </tbody>\n",
       "</table>\n",
       "<p>2 rows × 40 columns</p>\n",
       "</div>"
      ],
      "text/plain": [
       "            Return_CNX_NIFTY  CNX_NIFTY_Time5  CNX_NIFTY_MA5  \\\n",
       "2000-01-03               NaN              NaN            NaN   \n",
       "2000-01-04          1.232302              NaN            NaN   \n",
       "\n",
       "            CNX_NIFTY_Time20  CNX_NIFTY_MA20  Return_INDEX_HSI  \\\n",
       "2000-01-03               NaN             NaN               NaN   \n",
       "2000-01-04               NaN             NaN         -0.017088   \n",
       "\n",
       "            INDEX_HSI_Time5  INDEX_HSI_MA5  INDEX_HSI_Time20  INDEX_HSI_MA20  \\\n",
       "2000-01-03              NaN            NaN               NaN             NaN   \n",
       "2000-01-04              NaN            NaN               NaN             NaN   \n",
       "\n",
       "              ...      Return_INDEX_DJI  INDEX_DJI_Time5  INDEX_DJI_MA5  \\\n",
       "2000-01-03    ...                   NaN              NaN            NaN   \n",
       "2000-01-04    ...             -0.031662              NaN            NaN   \n",
       "\n",
       "            INDEX_DJI_Time20  INDEX_DJI_MA20  Return_IXIC  IXIC_Time5  \\\n",
       "2000-01-03               NaN             NaN          NaN         NaN   \n",
       "2000-01-04               NaN             NaN    -0.055544         NaN   \n",
       "\n",
       "            IXIC_MA5  IXIC_Time20  IXIC_MA20  \n",
       "2000-01-03       NaN          NaN        NaN  \n",
       "2000-01-04       NaN          NaN        NaN  \n",
       "\n",
       "[2 rows x 40 columns]"
      ]
     },
     "execution_count": 110,
     "metadata": {},
     "output_type": "execute_result"
    }
   ],
   "source": [
    "#merged_data=merged_data.index\n",
    "merged_data.index = pd.to_datetime(merged_data.index)\n",
    "merged_data.head(2)"
   ]
  },
  {
   "cell_type": "code",
   "execution_count": 111,
   "metadata": {
    "collapsed": false
   },
   "outputs": [],
   "source": [
    "def count_missing(dataframe):\n",
    "    return (dataframe.shape[0] * dataframe.shape[1]) - dataframe.count().sum()\n"
   ]
  },
  {
   "cell_type": "code",
   "execution_count": 112,
   "metadata": {
    "collapsed": false
   },
   "outputs": [
    {
     "name": "stdout",
     "output_type": "stream",
     "text": [
      "Size of data frame: (4122, 40)\n",
      "Number of NaN after merging: 6542\n",
      "Number of NaN after time interpolation: 430\n"
     ]
    }
   ],
   "source": [
    "print ('Size of data frame: %s' %str(merged_data.shape))\n",
    "print ('Number of NaN after merging: %s' %str(count_missing(merged_data)))\n",
    "    \n",
    "merged_data = merged_data.interpolate(method='time')\n",
    "print ('Number of NaN after time interpolation: %s' % str(count_missing(merged_data)))\n"
   ]
  },
  {
   "cell_type": "code",
   "execution_count": 113,
   "metadata": {
    "collapsed": false
   },
   "outputs": [
    {
     "name": "stdout",
     "output_type": "stream",
     "text": [
      "Number of NaN after mean interpolation: 0\n"
     ]
    }
   ],
   "source": [
    "merged_data = merged_data.fillna(merged_data.mean())\n",
    "print ('Number of NaN after mean interpolation: %s' %count_missing(merged_data)) "
   ]
  },
  {
   "cell_type": "code",
   "execution_count": 114,
   "metadata": {
    "collapsed": false
   },
   "outputs": [
    {
     "data": {
      "text/html": [
       "<div>\n",
       "<table border=\"1\" class=\"dataframe\">\n",
       "  <thead>\n",
       "    <tr style=\"text-align: right;\">\n",
       "      <th></th>\n",
       "      <th>Return_CNX_NIFTY</th>\n",
       "      <th>CNX_NIFTY_Time5</th>\n",
       "      <th>CNX_NIFTY_MA5</th>\n",
       "      <th>CNX_NIFTY_Time20</th>\n",
       "      <th>CNX_NIFTY_MA20</th>\n",
       "      <th>Return_INDEX_HSI</th>\n",
       "      <th>INDEX_HSI_Time5</th>\n",
       "      <th>INDEX_HSI_MA5</th>\n",
       "      <th>INDEX_HSI_Time20</th>\n",
       "      <th>INDEX_HSI_MA20</th>\n",
       "      <th>...</th>\n",
       "      <th>Return_INDEX_DJI</th>\n",
       "      <th>INDEX_DJI_Time5</th>\n",
       "      <th>INDEX_DJI_MA5</th>\n",
       "      <th>INDEX_DJI_Time20</th>\n",
       "      <th>INDEX_DJI_MA20</th>\n",
       "      <th>Return_IXIC</th>\n",
       "      <th>IXIC_Time5</th>\n",
       "      <th>IXIC_MA5</th>\n",
       "      <th>IXIC_Time20</th>\n",
       "      <th>IXIC_MA20</th>\n",
       "    </tr>\n",
       "  </thead>\n",
       "  <tbody>\n",
       "    <tr>\n",
       "      <th>2000-01-03</th>\n",
       "      <td>0.135357</td>\n",
       "      <td>0.111314</td>\n",
       "      <td>0.126732</td>\n",
       "      <td>0.139981</td>\n",
       "      <td>0.124823</td>\n",
       "      <td>0.000168</td>\n",
       "      <td>0.000943</td>\n",
       "      <td>0.000193</td>\n",
       "      <td>0.003453</td>\n",
       "      <td>0.000183</td>\n",
       "      <td>...</td>\n",
       "      <td>0.000163</td>\n",
       "      <td>0.000792</td>\n",
       "      <td>0.000168</td>\n",
       "      <td>0.003012</td>\n",
       "      <td>0.000169</td>\n",
       "      <td>0.000166</td>\n",
       "      <td>0.000921</td>\n",
       "      <td>0.000201</td>\n",
       "      <td>0.003157</td>\n",
       "      <td>0.000181</td>\n",
       "    </tr>\n",
       "    <tr>\n",
       "      <th>2000-01-04</th>\n",
       "      <td>1.232302</td>\n",
       "      <td>0.111314</td>\n",
       "      <td>0.126732</td>\n",
       "      <td>0.139981</td>\n",
       "      <td>0.124823</td>\n",
       "      <td>-0.017088</td>\n",
       "      <td>0.000943</td>\n",
       "      <td>0.000193</td>\n",
       "      <td>0.003453</td>\n",
       "      <td>0.000183</td>\n",
       "      <td>...</td>\n",
       "      <td>-0.031662</td>\n",
       "      <td>0.000792</td>\n",
       "      <td>0.000168</td>\n",
       "      <td>0.003012</td>\n",
       "      <td>0.000169</td>\n",
       "      <td>-0.055544</td>\n",
       "      <td>0.000921</td>\n",
       "      <td>0.000201</td>\n",
       "      <td>0.003157</td>\n",
       "      <td>0.000181</td>\n",
       "    </tr>\n",
       "    <tr>\n",
       "      <th>2000-01-05</th>\n",
       "      <td>0.562956</td>\n",
       "      <td>0.111314</td>\n",
       "      <td>0.126732</td>\n",
       "      <td>0.139981</td>\n",
       "      <td>0.124823</td>\n",
       "      <td>-0.071816</td>\n",
       "      <td>0.000943</td>\n",
       "      <td>0.000193</td>\n",
       "      <td>0.003453</td>\n",
       "      <td>0.000183</td>\n",
       "      <td>...</td>\n",
       "      <td>0.011348</td>\n",
       "      <td>0.000792</td>\n",
       "      <td>0.000168</td>\n",
       "      <td>0.003012</td>\n",
       "      <td>0.000169</td>\n",
       "      <td>-0.006190</td>\n",
       "      <td>0.000921</td>\n",
       "      <td>0.000201</td>\n",
       "      <td>0.003157</td>\n",
       "      <td>0.000181</td>\n",
       "    </tr>\n",
       "    <tr>\n",
       "      <th>2000-01-06</th>\n",
       "      <td>-0.179464</td>\n",
       "      <td>0.111314</td>\n",
       "      <td>0.126732</td>\n",
       "      <td>0.139981</td>\n",
       "      <td>0.124823</td>\n",
       "      <td>-0.043762</td>\n",
       "      <td>0.000943</td>\n",
       "      <td>0.000193</td>\n",
       "      <td>0.003453</td>\n",
       "      <td>0.000183</td>\n",
       "      <td>...</td>\n",
       "      <td>0.011742</td>\n",
       "      <td>0.000792</td>\n",
       "      <td>0.000168</td>\n",
       "      <td>0.003012</td>\n",
       "      <td>0.000169</td>\n",
       "      <td>-0.038790</td>\n",
       "      <td>0.000921</td>\n",
       "      <td>0.000201</td>\n",
       "      <td>0.003157</td>\n",
       "      <td>0.000181</td>\n",
       "    </tr>\n",
       "    <tr>\n",
       "      <th>2000-01-07</th>\n",
       "      <td>-0.243582</td>\n",
       "      <td>0.111314</td>\n",
       "      <td>0.126732</td>\n",
       "      <td>0.139981</td>\n",
       "      <td>0.124823</td>\n",
       "      <td>0.016656</td>\n",
       "      <td>0.000943</td>\n",
       "      <td>0.000193</td>\n",
       "      <td>0.003453</td>\n",
       "      <td>0.000183</td>\n",
       "      <td>...</td>\n",
       "      <td>0.023931</td>\n",
       "      <td>0.000792</td>\n",
       "      <td>0.000168</td>\n",
       "      <td>0.003012</td>\n",
       "      <td>0.000169</td>\n",
       "      <td>0.041718</td>\n",
       "      <td>0.000921</td>\n",
       "      <td>0.000201</td>\n",
       "      <td>0.003157</td>\n",
       "      <td>0.000181</td>\n",
       "    </tr>\n",
       "  </tbody>\n",
       "</table>\n",
       "<p>5 rows × 40 columns</p>\n",
       "</div>"
      ],
      "text/plain": [
       "            Return_CNX_NIFTY  CNX_NIFTY_Time5  CNX_NIFTY_MA5  \\\n",
       "2000-01-03          0.135357         0.111314       0.126732   \n",
       "2000-01-04          1.232302         0.111314       0.126732   \n",
       "2000-01-05          0.562956         0.111314       0.126732   \n",
       "2000-01-06         -0.179464         0.111314       0.126732   \n",
       "2000-01-07         -0.243582         0.111314       0.126732   \n",
       "\n",
       "            CNX_NIFTY_Time20  CNX_NIFTY_MA20  Return_INDEX_HSI  \\\n",
       "2000-01-03          0.139981        0.124823          0.000168   \n",
       "2000-01-04          0.139981        0.124823         -0.017088   \n",
       "2000-01-05          0.139981        0.124823         -0.071816   \n",
       "2000-01-06          0.139981        0.124823         -0.043762   \n",
       "2000-01-07          0.139981        0.124823          0.016656   \n",
       "\n",
       "            INDEX_HSI_Time5  INDEX_HSI_MA5  INDEX_HSI_Time20  INDEX_HSI_MA20  \\\n",
       "2000-01-03         0.000943       0.000193          0.003453        0.000183   \n",
       "2000-01-04         0.000943       0.000193          0.003453        0.000183   \n",
       "2000-01-05         0.000943       0.000193          0.003453        0.000183   \n",
       "2000-01-06         0.000943       0.000193          0.003453        0.000183   \n",
       "2000-01-07         0.000943       0.000193          0.003453        0.000183   \n",
       "\n",
       "              ...      Return_INDEX_DJI  INDEX_DJI_Time5  INDEX_DJI_MA5  \\\n",
       "2000-01-03    ...              0.000163         0.000792       0.000168   \n",
       "2000-01-04    ...             -0.031662         0.000792       0.000168   \n",
       "2000-01-05    ...              0.011348         0.000792       0.000168   \n",
       "2000-01-06    ...              0.011742         0.000792       0.000168   \n",
       "2000-01-07    ...              0.023931         0.000792       0.000168   \n",
       "\n",
       "            INDEX_DJI_Time20  INDEX_DJI_MA20  Return_IXIC  IXIC_Time5  \\\n",
       "2000-01-03          0.003012        0.000169     0.000166    0.000921   \n",
       "2000-01-04          0.003012        0.000169    -0.055544    0.000921   \n",
       "2000-01-05          0.003012        0.000169    -0.006190    0.000921   \n",
       "2000-01-06          0.003012        0.000169    -0.038790    0.000921   \n",
       "2000-01-07          0.003012        0.000169     0.041718    0.000921   \n",
       "\n",
       "            IXIC_MA5  IXIC_Time20  IXIC_MA20  \n",
       "2000-01-03  0.000201     0.003157   0.000181  \n",
       "2000-01-04  0.000201     0.003157   0.000181  \n",
       "2000-01-05  0.000201     0.003157   0.000181  \n",
       "2000-01-06  0.000201     0.003157   0.000181  \n",
       "2000-01-07  0.000201     0.003157   0.000181  \n",
       "\n",
       "[5 rows x 40 columns]"
      ]
     },
     "execution_count": 114,
     "metadata": {},
     "output_type": "execute_result"
    }
   ],
   "source": [
    "merged_data.head()"
   ]
  },
  {
   "cell_type": "code",
   "execution_count": 115,
   "metadata": {
    "collapsed": true
   },
   "outputs": [],
   "source": [
    "merged_data.Return_CNX_NIFTY = merged_data.Return_CNX_NIFTY.shift(-1)"
   ]
  },
  {
   "cell_type": "code",
   "execution_count": 116,
   "metadata": {
    "collapsed": false
   },
   "outputs": [
    {
     "data": {
      "text/html": [
       "<div>\n",
       "<table border=\"1\" class=\"dataframe\">\n",
       "  <thead>\n",
       "    <tr style=\"text-align: right;\">\n",
       "      <th></th>\n",
       "      <th>Return_CNX_NIFTY</th>\n",
       "      <th>CNX_NIFTY_Time5</th>\n",
       "      <th>CNX_NIFTY_MA5</th>\n",
       "      <th>CNX_NIFTY_Time20</th>\n",
       "      <th>CNX_NIFTY_MA20</th>\n",
       "      <th>Return_INDEX_HSI</th>\n",
       "      <th>INDEX_HSI_Time5</th>\n",
       "      <th>INDEX_HSI_MA5</th>\n",
       "      <th>INDEX_HSI_Time20</th>\n",
       "      <th>INDEX_HSI_MA20</th>\n",
       "      <th>...</th>\n",
       "      <th>Return_INDEX_DJI</th>\n",
       "      <th>INDEX_DJI_Time5</th>\n",
       "      <th>INDEX_DJI_MA5</th>\n",
       "      <th>INDEX_DJI_Time20</th>\n",
       "      <th>INDEX_DJI_MA20</th>\n",
       "      <th>Return_IXIC</th>\n",
       "      <th>IXIC_Time5</th>\n",
       "      <th>IXIC_MA5</th>\n",
       "      <th>IXIC_Time20</th>\n",
       "      <th>IXIC_MA20</th>\n",
       "    </tr>\n",
       "  </thead>\n",
       "  <tbody>\n",
       "    <tr>\n",
       "      <th>2000-01-03</th>\n",
       "      <td>1.232302</td>\n",
       "      <td>0.111314</td>\n",
       "      <td>0.126732</td>\n",
       "      <td>0.139981</td>\n",
       "      <td>0.124823</td>\n",
       "      <td>0.000168</td>\n",
       "      <td>0.000943</td>\n",
       "      <td>0.000193</td>\n",
       "      <td>0.003453</td>\n",
       "      <td>0.000183</td>\n",
       "      <td>...</td>\n",
       "      <td>0.000163</td>\n",
       "      <td>0.000792</td>\n",
       "      <td>0.000168</td>\n",
       "      <td>0.003012</td>\n",
       "      <td>0.000169</td>\n",
       "      <td>0.000166</td>\n",
       "      <td>0.000921</td>\n",
       "      <td>0.000201</td>\n",
       "      <td>0.003157</td>\n",
       "      <td>0.000181</td>\n",
       "    </tr>\n",
       "    <tr>\n",
       "      <th>2000-01-04</th>\n",
       "      <td>0.562956</td>\n",
       "      <td>0.111314</td>\n",
       "      <td>0.126732</td>\n",
       "      <td>0.139981</td>\n",
       "      <td>0.124823</td>\n",
       "      <td>-0.017088</td>\n",
       "      <td>0.000943</td>\n",
       "      <td>0.000193</td>\n",
       "      <td>0.003453</td>\n",
       "      <td>0.000183</td>\n",
       "      <td>...</td>\n",
       "      <td>-0.031662</td>\n",
       "      <td>0.000792</td>\n",
       "      <td>0.000168</td>\n",
       "      <td>0.003012</td>\n",
       "      <td>0.000169</td>\n",
       "      <td>-0.055544</td>\n",
       "      <td>0.000921</td>\n",
       "      <td>0.000201</td>\n",
       "      <td>0.003157</td>\n",
       "      <td>0.000181</td>\n",
       "    </tr>\n",
       "  </tbody>\n",
       "</table>\n",
       "<p>2 rows × 40 columns</p>\n",
       "</div>"
      ],
      "text/plain": [
       "            Return_CNX_NIFTY  CNX_NIFTY_Time5  CNX_NIFTY_MA5  \\\n",
       "2000-01-03          1.232302         0.111314       0.126732   \n",
       "2000-01-04          0.562956         0.111314       0.126732   \n",
       "\n",
       "            CNX_NIFTY_Time20  CNX_NIFTY_MA20  Return_INDEX_HSI  \\\n",
       "2000-01-03          0.139981        0.124823          0.000168   \n",
       "2000-01-04          0.139981        0.124823         -0.017088   \n",
       "\n",
       "            INDEX_HSI_Time5  INDEX_HSI_MA5  INDEX_HSI_Time20  INDEX_HSI_MA20  \\\n",
       "2000-01-03         0.000943       0.000193          0.003453        0.000183   \n",
       "2000-01-04         0.000943       0.000193          0.003453        0.000183   \n",
       "\n",
       "              ...      Return_INDEX_DJI  INDEX_DJI_Time5  INDEX_DJI_MA5  \\\n",
       "2000-01-03    ...              0.000163         0.000792       0.000168   \n",
       "2000-01-04    ...             -0.031662         0.000792       0.000168   \n",
       "\n",
       "            INDEX_DJI_Time20  INDEX_DJI_MA20  Return_IXIC  IXIC_Time5  \\\n",
       "2000-01-03          0.003012        0.000169     0.000166    0.000921   \n",
       "2000-01-04          0.003012        0.000169    -0.055544    0.000921   \n",
       "\n",
       "            IXIC_MA5  IXIC_Time20  IXIC_MA20  \n",
       "2000-01-03  0.000201     0.003157   0.000181  \n",
       "2000-01-04  0.000201     0.003157   0.000181  \n",
       "\n",
       "[2 rows x 40 columns]"
      ]
     },
     "execution_count": 116,
     "metadata": {},
     "output_type": "execute_result"
    }
   ],
   "source": [
    "merged_data.head(2)"
   ]
  },
  {
   "cell_type": "code",
   "execution_count": 117,
   "metadata": {
    "collapsed": true
   },
   "outputs": [],
   "source": [
    "def prepare_data_for_classification(dataset, start_test):\n",
    "    le = preprocessing.LabelEncoder()\n",
    "    \n",
    "    dataset['UpDown'] = dataset['Return_CNX_NIFTY']\n",
    "    \n",
    "    dataset.UpDown[dataset.UpDown >= 0] = 1\n",
    "    dataset.UpDown[dataset.UpDown < 0] = -1\n",
    "    \n",
    "    dataset['UpDown'].fillna(1, inplace=True)    \n",
    "    \n",
    "    dataset.UpDown = le.fit(dataset.UpDown).transform(dataset.UpDown)\n",
    "    \n",
    "    features = dataset.columns[1:-1]\n",
    "    X = dataset[features]    \n",
    "    y = dataset.UpDown    \n",
    "    \n",
    "    X_train = X[X.index < start_test]\n",
    "    y_train = y[y.index < start_test]    \n",
    "    \n",
    "    X_test = X[X.index >= start_test]    \n",
    "    y_test = y[y.index >= start_test]\n",
    "    \n",
    "    return X_train, y_train, X_test, y_test    "
   ]
  },
  {
   "cell_type": "code",
   "execution_count": 118,
   "metadata": {
    "collapsed": false
   },
   "outputs": [],
   "source": [
    "start_test = datetime.datetime(2015,1,1)\n",
    "X_train, y_train, X_test, y_test  = prepare_data_for_classification(merged_data, start_test)"
   ]
  },
  {
   "cell_type": "code",
   "execution_count": 121,
   "metadata": {
    "collapsed": false
   },
   "outputs": [
    {
     "name": "stdout",
     "output_type": "stream",
     "text": [
      "(3932, 39)\n",
      "(3932,)\n",
      "(190, 39)\n",
      "(190,)\n"
     ]
    }
   ],
   "source": [
    "print (X_train.shape)\n",
    "print (y_train.shape)\n",
    "print (X_test.shape)\n",
    "print (y_test.shape)"
   ]
  },
  {
   "cell_type": "code",
   "execution_count": 138,
   "metadata": {
    "collapsed": false
   },
   "outputs": [
    {
     "data": {
      "text/plain": [
       "<matplotlib.axes._subplots.AxesSubplot at 0x7f65c16d4748>"
      ]
     },
     "execution_count": 138,
     "metadata": {},
     "output_type": "execute_result"
    },
    {
     "data": {
      "image/png": "[encoded data removed]",
      "text/plain": [
       "<matplotlib.figure.Figure at 0x7f65c02fa400>"
      ]
     },
     "metadata": {},
     "output_type": "display_data"
    }
   ],
   "source": [
    "X_train.iloc[:,[8,9,10]].plot()"
   ]
  },
  {
   "cell_type": "code",
   "execution_count": 140,
   "metadata": {
    "collapsed": false
   },
   "outputs": [
    {
     "name": "stdout",
     "output_type": "stream",
     "text": [
      "Accuracy for SVM Classifier 0.563157894737\n"
     ]
    }
   ],
   "source": [
    "clf = SVC()\n",
    "clf.fit(X_train, y_train)\n",
    "accuracy = clf.score(X_test, y_test)\n",
    "print(\"Accuracy for SVM Classifier %s\" %accuracy)"
   ]
  },
  {
   "cell_type": "code",
   "execution_count": 141,
   "metadata": {
    "collapsed": false
   },
   "outputs": [
    {
     "name": "stdout",
     "output_type": "stream",
     "text": [
      "Accuracy for KNN Classifier 0.510526315789\n"
     ]
    }
   ],
   "source": [
    "clf = neighbors.KNeighborsClassifier()\n",
    "clf.fit(X_train, y_train)\n",
    "accuracy = clf.score(X_test, y_test)\n",
    "print(\"Accuracy for KNN Classifier %s\" %accuracy) "
   ]
  },
  {
   "cell_type": "code",
   "execution_count": 142,
   "metadata": {
    "collapsed": false
   },
   "outputs": [
    {
     "name": "stdout",
     "output_type": "stream",
     "text": [
      "Accuracy for RF Classifier 0.557894736842\n"
     ]
    }
   ],
   "source": [
    "clf = RandomForestClassifier(n_estimators=100, n_jobs=-1)\n",
    "clf.fit(X_train, y_train)\n",
    "accuracy = clf.score(X_test, y_test)\n",
    "print(\"Accuracy for RF Classifier %s\" %accuracy) "
   ]
  },
  {
   "cell_type": "code",
   "execution_count": null,
   "metadata": {
    "collapsed": true
   },
   "outputs": [],
   "source": []
  },
  {
   "cell_type": "code",
   "execution_count": null,
   "metadata": {
    "collapsed": true
   },
   "outputs": [],
   "source": []
  },
  {
   "cell_type": "code",
   "execution_count": null,
   "metadata": {
    "collapsed": true
   },
   "outputs": [],
   "source": []
  },
  {
   "cell_type": "code",
   "execution_count": null,
   "metadata": {
    "collapsed": true
   },
   "outputs": [],
   "source": []
  },
  {
   "cell_type": "code",
   "execution_count": null,
   "metadata": {
    "collapsed": true
   },
   "outputs": [],
   "source": []
  },
  {
   "cell_type": "code",
   "execution_count": null,
   "metadata": {
    "collapsed": true
   },
   "outputs": [],
   "source": []
  },
  {
   "cell_type": "code",
   "execution_count": null,
   "metadata": {
    "collapsed": true
   },
   "outputs": [],
   "source": []
  }
 ],
 "metadata": {
  "kernelspec": {
   "display_name": "Python 3",
   "language": "python",
   "name": "python3"
  },
  "language_info": {
   "codemirror_mode": {
    "name": "ipython",
    "version": 3
   },
   "file_extension": ".py",
   "mimetype": "text/x-python",
   "name": "python",
   "nbconvert_exporter": "python",
   "pygments_lexer": "ipython3",
   "version": "3.4.3"
  }
 },
 "nbformat": 4,
 "nbformat_minor": 0
}
