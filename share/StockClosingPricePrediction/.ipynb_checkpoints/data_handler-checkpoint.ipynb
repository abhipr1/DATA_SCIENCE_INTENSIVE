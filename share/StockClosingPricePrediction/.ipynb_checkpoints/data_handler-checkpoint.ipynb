{
 "cells": [
  {
   "cell_type": "code",
   "execution_count": 1,
   "metadata": {
    "collapsed": false
   },
   "outputs": [],
   "source": [
    "import Quandl as qd\n",
    "import pandas as pd\n",
    "import pandas.io.data\n",
    "import seaborn"
   ]
  },
  {
   "cell_type": "code",
   "execution_count": 2,
   "metadata": {
    "collapsed": true
   },
   "outputs": [],
   "source": [
    "def fetch_data_from_yahoo(symbol, start, end):\n",
    "    \"\"\"\n",
    "    downloads stock from yahoo\n",
    "    \"\"\"\n",
    "    df =  pandas.io.data.get_data_yahoo(symbol, start, end)\n",
    "    symbol = symbol.replace('^','')\n",
    "    \n",
    "    df.columns.values[-1] = 'AdjClose'\n",
    "    df.columns = df.columns + '_' + symbol\n",
    "    df['Return_%s' %symbol] = df['AdjClose_%s' %symbol].pct_change()\n",
    "\n",
    "    return df\n"
   ]
  },
  {
   "cell_type": "code",
   "execution_count": 3,
   "metadata": {
    "collapsed": true
   },
   "outputs": [],
   "source": [
    "def fetch_data_from_quandl(symbol, start_date, end_date):\n",
    "    df =  qd.get(symbol, trim_start = start_date, trim_end = end_date, authtoken=\"rzpJEj6ebQyTiSXF4pS3\")\n",
    "    symbol = symbol[symbol.find('/')+1:]\n",
    "    df.columns.values[-1] = 'AdjClose'\n",
    "    df.columns = df.columns + '_' + symbol\n",
    "    df['Return_%s' %symbol] = df['AdjClose_%s' %symbol].pct_change()\n",
    "    return df"
   ]
  },
  {
   "cell_type": "code",
   "execution_count": 4,
   "metadata": {
    "collapsed": false
   },
   "outputs": [],
   "source": [
    "def download_and_save_data(symbols, start_date, end_date):\n",
    "    for symbol in symbols:\n",
    "        df = None\n",
    "        if symbol.find('/') != -1:\n",
    "            df = fetch_data_from_quandl(symbol, start_date, end_date)\n",
    "            df.to_csv(path_or_buf='./Data/'+symbol[symbol.find('/')+1:]+'_'+start_date+'_'+end_date+'.csv')\n",
    "        else:\n",
    "            print(symbol)\n",
    "            #df = read_csv(symbol)\n",
    "            df = fetch_data_from_yahoo(symbol, start_date, end_date)\n",
    "            df.to_csv(path_or_buf='./Data/'+symbol.replace('^','')+'_'+start_date+'_'+end_date+'.csv')\n"
   ]
  },
  {
   "cell_type": "code",
   "execution_count": 5,
   "metadata": {
    "collapsed": false
   },
   "outputs": [],
   "source": [
    "def get_date_from_file(file_name):\n",
    "    df = pd.read_csv(file_name)\n",
    "    if len(df.columns)>6:\n",
    "        df.drop(df.columns[[5]], axis=1, inplace=True)\n",
    "    df.set_index(['Date'], inplace=True)\n",
    "    return df"
   ]
  },
  {
   "cell_type": "code",
   "execution_count": 6,
   "metadata": {
    "collapsed": true
   },
   "outputs": [],
   "source": [
    "def read_csv(symbol):\n",
    "    df =  pd.read_csv('./Data/table.csv')\n",
    "    symbol = symbol.replace('^','')\n",
    "    df.columns.values[-1] = 'AdjClose'\n",
    "    df.columns = df.columns + '_' + symbol\n",
    "    df['Return_%s' %symbol] = df['AdjClose_%s' %symbol].pct_change()\n",
    "\n",
    "    return df\n"
   ]
  },
  {
   "cell_type": "code",
   "execution_count": null,
   "metadata": {
    "collapsed": true
   },
   "outputs": [],
   "source": []
  },
  {
   "cell_type": "code",
   "execution_count": null,
   "metadata": {
    "collapsed": true
   },
   "outputs": [],
   "source": []
  }
 ],
 "metadata": {
  "kernelspec": {
   "display_name": "Python 3",
   "language": "python",
   "name": "python3"
  },
  "language_info": {
   "codemirror_mode": {
    "name": "ipython",
    "version": 3
   },
   "file_extension": ".py",
   "mimetype": "text/x-python",
   "name": "python",
   "nbconvert_exporter": "python",
   "pygments_lexer": "ipython3",
   "version": "3.4.3"
  }
 },
 "nbformat": 4,
 "nbformat_minor": 0
}
