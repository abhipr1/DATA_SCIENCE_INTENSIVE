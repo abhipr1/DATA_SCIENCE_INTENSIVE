{
 "metadata": {
  "name": "",
  "signature": "sha256:7c0b3516450eb5c95292bb728bcec36d2a0d8595fe755ef466188af0760cfb31"
 },
 "nbformat": 3,
 "nbformat_minor": 0,
 "worksheets": [
  {
   "cells": [
    {
     "cell_type": "markdown",
     "metadata": {},
     "source": [
      "# Working with missing data\n",
      "[Link](http://pandas.pydata.org/pandas-docs/stable/missing_data.html)"
     ]
    },
    {
     "cell_type": "code",
     "collapsed": false,
     "input": [
      "%matplotlib inline"
     ],
     "language": "python",
     "metadata": {},
     "outputs": [],
     "prompt_number": 1
    },
    {
     "cell_type": "code",
     "collapsed": false,
     "input": [
      "import pandas as pd\n",
      "import numpy as np"
     ],
     "language": "python",
     "metadata": {},
     "outputs": [],
     "prompt_number": 3
    },
    {
     "cell_type": "code",
     "collapsed": false,
     "input": [
      "df = pd.DataFrame(np.random.rand(5, 3), index=['a', 'c', 'e', 'f', 'h'],\n",
      "                  columns=['one', 'two', 'three'])"
     ],
     "language": "python",
     "metadata": {},
     "outputs": [],
     "prompt_number": 4
    },
    {
     "cell_type": "code",
     "collapsed": false,
     "input": [
      "df['four']='bar'"
     ],
     "language": "python",
     "metadata": {},
     "outputs": [],
     "prompt_number": 5
    },
    {
     "cell_type": "code",
     "collapsed": false,
     "input": [
      "df['five'] = df['one'] > 0"
     ],
     "language": "python",
     "metadata": {},
     "outputs": [],
     "prompt_number": 6
    },
    {
     "cell_type": "code",
     "collapsed": false,
     "input": [
      "df"
     ],
     "language": "python",
     "metadata": {},
     "outputs": [
      {
       "html": [
        "<div style=\"max-height:1000px;max-width:1500px;overflow:auto;\">\n",
        "<table border=\"1\" class=\"dataframe\">\n",
        "  <thead>\n",
        "    <tr style=\"text-align: right;\">\n",
        "      <th></th>\n",
        "      <th>one</th>\n",
        "      <th>two</th>\n",
        "      <th>three</th>\n",
        "      <th>four</th>\n",
        "      <th>five</th>\n",
        "    </tr>\n",
        "  </thead>\n",
        "  <tbody>\n",
        "    <tr>\n",
        "      <th>a</th>\n",
        "      <td> 0.493574</td>\n",
        "      <td> 0.690375</td>\n",
        "      <td> 0.338309</td>\n",
        "      <td> bar</td>\n",
        "      <td> True</td>\n",
        "    </tr>\n",
        "    <tr>\n",
        "      <th>c</th>\n",
        "      <td> 0.940038</td>\n",
        "      <td> 0.545834</td>\n",
        "      <td> 0.963170</td>\n",
        "      <td> bar</td>\n",
        "      <td> True</td>\n",
        "    </tr>\n",
        "    <tr>\n",
        "      <th>e</th>\n",
        "      <td> 0.674076</td>\n",
        "      <td> 0.518232</td>\n",
        "      <td> 0.366761</td>\n",
        "      <td> bar</td>\n",
        "      <td> True</td>\n",
        "    </tr>\n",
        "    <tr>\n",
        "      <th>f</th>\n",
        "      <td> 0.015938</td>\n",
        "      <td> 0.786997</td>\n",
        "      <td> 0.184278</td>\n",
        "      <td> bar</td>\n",
        "      <td> True</td>\n",
        "    </tr>\n",
        "    <tr>\n",
        "      <th>h</th>\n",
        "      <td> 0.923214</td>\n",
        "      <td> 0.462628</td>\n",
        "      <td> 0.749403</td>\n",
        "      <td> bar</td>\n",
        "      <td> True</td>\n",
        "    </tr>\n",
        "  </tbody>\n",
        "</table>\n",
        "</div>"
       ],
       "metadata": {},
       "output_type": "pyout",
       "prompt_number": 7,
       "text": [
        "        one       two     three four  five\n",
        "a  0.493574  0.690375  0.338309  bar  True\n",
        "c  0.940038  0.545834  0.963170  bar  True\n",
        "e  0.674076  0.518232  0.366761  bar  True\n",
        "f  0.015938  0.786997  0.184278  bar  True\n",
        "h  0.923214  0.462628  0.749403  bar  True"
       ]
      }
     ],
     "prompt_number": 7
    },
    {
     "cell_type": "code",
     "collapsed": false,
     "input": [
      "df2 = df.reindex(['a', 'b', 'c', 'd', 'e', 'f', 'g', 'h'])"
     ],
     "language": "python",
     "metadata": {},
     "outputs": [],
     "prompt_number": 8
    },
    {
     "cell_type": "code",
     "collapsed": false,
     "input": [
      "df2"
     ],
     "language": "python",
     "metadata": {},
     "outputs": [
      {
       "html": [
        "<div style=\"max-height:1000px;max-width:1500px;overflow:auto;\">\n",
        "<table border=\"1\" class=\"dataframe\">\n",
        "  <thead>\n",
        "    <tr style=\"text-align: right;\">\n",
        "      <th></th>\n",
        "      <th>one</th>\n",
        "      <th>two</th>\n",
        "      <th>three</th>\n",
        "      <th>four</th>\n",
        "      <th>five</th>\n",
        "    </tr>\n",
        "  </thead>\n",
        "  <tbody>\n",
        "    <tr>\n",
        "      <th>a</th>\n",
        "      <td> 0.493574</td>\n",
        "      <td> 0.690375</td>\n",
        "      <td> 0.338309</td>\n",
        "      <td> bar</td>\n",
        "      <td> True</td>\n",
        "    </tr>\n",
        "    <tr>\n",
        "      <th>b</th>\n",
        "      <td>      NaN</td>\n",
        "      <td>      NaN</td>\n",
        "      <td>      NaN</td>\n",
        "      <td> NaN</td>\n",
        "      <td>  NaN</td>\n",
        "    </tr>\n",
        "    <tr>\n",
        "      <th>c</th>\n",
        "      <td> 0.940038</td>\n",
        "      <td> 0.545834</td>\n",
        "      <td> 0.963170</td>\n",
        "      <td> bar</td>\n",
        "      <td> True</td>\n",
        "    </tr>\n",
        "    <tr>\n",
        "      <th>d</th>\n",
        "      <td>      NaN</td>\n",
        "      <td>      NaN</td>\n",
        "      <td>      NaN</td>\n",
        "      <td> NaN</td>\n",
        "      <td>  NaN</td>\n",
        "    </tr>\n",
        "    <tr>\n",
        "      <th>e</th>\n",
        "      <td> 0.674076</td>\n",
        "      <td> 0.518232</td>\n",
        "      <td> 0.366761</td>\n",
        "      <td> bar</td>\n",
        "      <td> True</td>\n",
        "    </tr>\n",
        "    <tr>\n",
        "      <th>f</th>\n",
        "      <td> 0.015938</td>\n",
        "      <td> 0.786997</td>\n",
        "      <td> 0.184278</td>\n",
        "      <td> bar</td>\n",
        "      <td> True</td>\n",
        "    </tr>\n",
        "    <tr>\n",
        "      <th>g</th>\n",
        "      <td>      NaN</td>\n",
        "      <td>      NaN</td>\n",
        "      <td>      NaN</td>\n",
        "      <td> NaN</td>\n",
        "      <td>  NaN</td>\n",
        "    </tr>\n",
        "    <tr>\n",
        "      <th>h</th>\n",
        "      <td> 0.923214</td>\n",
        "      <td> 0.462628</td>\n",
        "      <td> 0.749403</td>\n",
        "      <td> bar</td>\n",
        "      <td> True</td>\n",
        "    </tr>\n",
        "  </tbody>\n",
        "</table>\n",
        "</div>"
       ],
       "metadata": {},
       "output_type": "pyout",
       "prompt_number": 9,
       "text": [
        "        one       two     three four  five\n",
        "a  0.493574  0.690375  0.338309  bar  True\n",
        "b       NaN       NaN       NaN  NaN   NaN\n",
        "c  0.940038  0.545834  0.963170  bar  True\n",
        "d       NaN       NaN       NaN  NaN   NaN\n",
        "e  0.674076  0.518232  0.366761  bar  True\n",
        "f  0.015938  0.786997  0.184278  bar  True\n",
        "g       NaN       NaN       NaN  NaN   NaN\n",
        "h  0.923214  0.462628  0.749403  bar  True"
       ]
      }
     ],
     "prompt_number": 9
    },
    {
     "cell_type": "markdown",
     "metadata": {},
     "source": [
      "* Drop not available values"
     ]
    },
    {
     "cell_type": "code",
     "collapsed": false,
     "input": [
      "df2.dropna()"
     ],
     "language": "python",
     "metadata": {},
     "outputs": [
      {
       "html": [
        "<div style=\"max-height:1000px;max-width:1500px;overflow:auto;\">\n",
        "<table border=\"1\" class=\"dataframe\">\n",
        "  <thead>\n",
        "    <tr style=\"text-align: right;\">\n",
        "      <th></th>\n",
        "      <th>one</th>\n",
        "      <th>two</th>\n",
        "      <th>three</th>\n",
        "      <th>four</th>\n",
        "      <th>five</th>\n",
        "    </tr>\n",
        "  </thead>\n",
        "  <tbody>\n",
        "    <tr>\n",
        "      <th>a</th>\n",
        "      <td> 0.493574</td>\n",
        "      <td> 0.690375</td>\n",
        "      <td> 0.338309</td>\n",
        "      <td> bar</td>\n",
        "      <td> True</td>\n",
        "    </tr>\n",
        "    <tr>\n",
        "      <th>c</th>\n",
        "      <td> 0.940038</td>\n",
        "      <td> 0.545834</td>\n",
        "      <td> 0.963170</td>\n",
        "      <td> bar</td>\n",
        "      <td> True</td>\n",
        "    </tr>\n",
        "    <tr>\n",
        "      <th>e</th>\n",
        "      <td> 0.674076</td>\n",
        "      <td> 0.518232</td>\n",
        "      <td> 0.366761</td>\n",
        "      <td> bar</td>\n",
        "      <td> True</td>\n",
        "    </tr>\n",
        "    <tr>\n",
        "      <th>f</th>\n",
        "      <td> 0.015938</td>\n",
        "      <td> 0.786997</td>\n",
        "      <td> 0.184278</td>\n",
        "      <td> bar</td>\n",
        "      <td> True</td>\n",
        "    </tr>\n",
        "    <tr>\n",
        "      <th>h</th>\n",
        "      <td> 0.923214</td>\n",
        "      <td> 0.462628</td>\n",
        "      <td> 0.749403</td>\n",
        "      <td> bar</td>\n",
        "      <td> True</td>\n",
        "    </tr>\n",
        "  </tbody>\n",
        "</table>\n",
        "</div>"
       ],
       "metadata": {},
       "output_type": "pyout",
       "prompt_number": 11,
       "text": [
        "        one       two     three four  five\n",
        "a  0.493574  0.690375  0.338309  bar  True\n",
        "c  0.940038  0.545834  0.963170  bar  True\n",
        "e  0.674076  0.518232  0.366761  bar  True\n",
        "f  0.015938  0.786997  0.184278  bar  True\n",
        "h  0.923214  0.462628  0.749403  bar  True"
       ]
      }
     ],
     "prompt_number": 11
    },
    {
     "cell_type": "code",
     "collapsed": false,
     "input": [
      "df2.dropna()"
     ],
     "language": "python",
     "metadata": {},
     "outputs": [
      {
       "html": [
        "<div style=\"max-height:1000px;max-width:1500px;overflow:auto;\">\n",
        "<table border=\"1\" class=\"dataframe\">\n",
        "  <thead>\n",
        "    <tr style=\"text-align: right;\">\n",
        "      <th></th>\n",
        "      <th>one</th>\n",
        "      <th>two</th>\n",
        "      <th>three</th>\n",
        "      <th>four</th>\n",
        "      <th>five</th>\n",
        "    </tr>\n",
        "  </thead>\n",
        "  <tbody>\n",
        "    <tr>\n",
        "      <th>a</th>\n",
        "      <td> 0.493574</td>\n",
        "      <td> 0.690375</td>\n",
        "      <td> 0.338309</td>\n",
        "      <td> bar</td>\n",
        "      <td> True</td>\n",
        "    </tr>\n",
        "    <tr>\n",
        "      <th>c</th>\n",
        "      <td> 0.940038</td>\n",
        "      <td> 0.545834</td>\n",
        "      <td> 0.963170</td>\n",
        "      <td> bar</td>\n",
        "      <td> True</td>\n",
        "    </tr>\n",
        "    <tr>\n",
        "      <th>e</th>\n",
        "      <td> 0.674076</td>\n",
        "      <td> 0.518232</td>\n",
        "      <td> 0.366761</td>\n",
        "      <td> bar</td>\n",
        "      <td> True</td>\n",
        "    </tr>\n",
        "    <tr>\n",
        "      <th>f</th>\n",
        "      <td> 0.015938</td>\n",
        "      <td> 0.786997</td>\n",
        "      <td> 0.184278</td>\n",
        "      <td> bar</td>\n",
        "      <td> True</td>\n",
        "    </tr>\n",
        "    <tr>\n",
        "      <th>h</th>\n",
        "      <td> 0.923214</td>\n",
        "      <td> 0.462628</td>\n",
        "      <td> 0.749403</td>\n",
        "      <td> bar</td>\n",
        "      <td> True</td>\n",
        "    </tr>\n",
        "  </tbody>\n",
        "</table>\n",
        "</div>"
       ],
       "metadata": {},
       "output_type": "pyout",
       "prompt_number": 13,
       "text": [
        "        one       two     three four  five\n",
        "a  0.493574  0.690375  0.338309  bar  True\n",
        "c  0.940038  0.545834  0.963170  bar  True\n",
        "e  0.674076  0.518232  0.366761  bar  True\n",
        "f  0.015938  0.786997  0.184278  bar  True\n",
        "h  0.923214  0.462628  0.749403  bar  True"
       ]
      }
     ],
     "prompt_number": 13
    },
    {
     "cell_type": "markdown",
     "metadata": {},
     "source": [
      "* Replace NaN with empty"
     ]
    },
    {
     "cell_type": "code",
     "collapsed": false,
     "input": [
      "df2.fillna('')"
     ],
     "language": "python",
     "metadata": {},
     "outputs": [
      {
       "html": [
        "<div style=\"max-height:1000px;max-width:1500px;overflow:auto;\">\n",
        "<table border=\"1\" class=\"dataframe\">\n",
        "  <thead>\n",
        "    <tr style=\"text-align: right;\">\n",
        "      <th></th>\n",
        "      <th>one</th>\n",
        "      <th>two</th>\n",
        "      <th>three</th>\n",
        "      <th>four</th>\n",
        "      <th>five</th>\n",
        "    </tr>\n",
        "  </thead>\n",
        "  <tbody>\n",
        "    <tr>\n",
        "      <th>a</th>\n",
        "      <td>  0.4935738</td>\n",
        "      <td> 0.6903748</td>\n",
        "      <td> 0.3383088</td>\n",
        "      <td> bar</td>\n",
        "      <td> True</td>\n",
        "    </tr>\n",
        "    <tr>\n",
        "      <th>b</th>\n",
        "      <td>           </td>\n",
        "      <td>          </td>\n",
        "      <td>          </td>\n",
        "      <td>    </td>\n",
        "      <td>     </td>\n",
        "    </tr>\n",
        "    <tr>\n",
        "      <th>c</th>\n",
        "      <td>  0.9400384</td>\n",
        "      <td> 0.5458337</td>\n",
        "      <td> 0.9631703</td>\n",
        "      <td> bar</td>\n",
        "      <td> True</td>\n",
        "    </tr>\n",
        "    <tr>\n",
        "      <th>d</th>\n",
        "      <td>           </td>\n",
        "      <td>          </td>\n",
        "      <td>          </td>\n",
        "      <td>    </td>\n",
        "      <td>     </td>\n",
        "    </tr>\n",
        "    <tr>\n",
        "      <th>e</th>\n",
        "      <td>  0.6740759</td>\n",
        "      <td> 0.5182319</td>\n",
        "      <td> 0.3667608</td>\n",
        "      <td> bar</td>\n",
        "      <td> True</td>\n",
        "    </tr>\n",
        "    <tr>\n",
        "      <th>f</th>\n",
        "      <td> 0.01593832</td>\n",
        "      <td> 0.7869971</td>\n",
        "      <td> 0.1842777</td>\n",
        "      <td> bar</td>\n",
        "      <td> True</td>\n",
        "    </tr>\n",
        "    <tr>\n",
        "      <th>g</th>\n",
        "      <td>           </td>\n",
        "      <td>          </td>\n",
        "      <td>          </td>\n",
        "      <td>    </td>\n",
        "      <td>     </td>\n",
        "    </tr>\n",
        "    <tr>\n",
        "      <th>h</th>\n",
        "      <td>   0.923214</td>\n",
        "      <td> 0.4626276</td>\n",
        "      <td> 0.7494026</td>\n",
        "      <td> bar</td>\n",
        "      <td> True</td>\n",
        "    </tr>\n",
        "  </tbody>\n",
        "</table>\n",
        "</div>"
       ],
       "metadata": {},
       "output_type": "pyout",
       "prompt_number": 16,
       "text": [
        "          one        two      three four  five\n",
        "a   0.4935738  0.6903748  0.3383088  bar  True\n",
        "b                                             \n",
        "c   0.9400384  0.5458337  0.9631703  bar  True\n",
        "d                                             \n",
        "e   0.6740759  0.5182319  0.3667608  bar  True\n",
        "f  0.01593832  0.7869971  0.1842777  bar  True\n",
        "g                                             \n",
        "h    0.923214  0.4626276  0.7494026  bar  True"
       ]
      }
     ],
     "prompt_number": 16
    },
    {
     "cell_type": "code",
     "collapsed": false,
     "input": [
      "df2.one"
     ],
     "language": "python",
     "metadata": {},
     "outputs": [
      {
       "metadata": {},
       "output_type": "pyout",
       "prompt_number": 17,
       "text": [
        "a    0.493574\n",
        "b         NaN\n",
        "c    0.940038\n",
        "d         NaN\n",
        "e    0.674076\n",
        "f    0.015938\n",
        "g         NaN\n",
        "h    0.923214\n",
        "Name: one, dtype: float64"
       ]
      }
     ],
     "prompt_number": 17
    },
    {
     "cell_type": "code",
     "collapsed": false,
     "input": [
      "pd.isnull(df2.four)"
     ],
     "language": "python",
     "metadata": {},
     "outputs": [
      {
       "metadata": {},
       "output_type": "pyout",
       "prompt_number": 19,
       "text": [
        "a    False\n",
        "b     True\n",
        "c    False\n",
        "d     True\n",
        "e    False\n",
        "f    False\n",
        "g     True\n",
        "h    False\n",
        "Name: four, dtype: bool"
       ]
      }
     ],
     "prompt_number": 19
    },
    {
     "cell_type": "code",
     "collapsed": false,
     "input": [
      "df2.four.notnull()"
     ],
     "language": "python",
     "metadata": {},
     "outputs": [
      {
       "metadata": {},
       "output_type": "pyout",
       "prompt_number": 20,
       "text": [
        "a     True\n",
        "b    False\n",
        "c     True\n",
        "d    False\n",
        "e     True\n",
        "f     True\n",
        "g    False\n",
        "h     True\n",
        "Name: four, dtype: bool"
       ]
      }
     ],
     "prompt_number": 20
    },
    {
     "cell_type": "markdown",
     "metadata": {},
     "source": [
      "## Datetimes\n",
      "* For numbers it is NaN where as for Datetime objects it is NaT"
     ]
    },
    {
     "cell_type": "code",
     "collapsed": false,
     "input": [
      "df2=df.copy()"
     ],
     "language": "python",
     "metadata": {},
     "outputs": [],
     "prompt_number": 21
    },
    {
     "cell_type": "code",
     "collapsed": false,
     "input": [
      "df2['timestamp'] = pd.Timestamp('20150808')"
     ],
     "language": "python",
     "metadata": {},
     "outputs": [],
     "prompt_number": 24
    },
    {
     "cell_type": "code",
     "collapsed": false,
     "input": [
      "df2"
     ],
     "language": "python",
     "metadata": {},
     "outputs": [
      {
       "html": [
        "<div style=\"max-height:1000px;max-width:1500px;overflow:auto;\">\n",
        "<table border=\"1\" class=\"dataframe\">\n",
        "  <thead>\n",
        "    <tr style=\"text-align: right;\">\n",
        "      <th></th>\n",
        "      <th>one</th>\n",
        "      <th>two</th>\n",
        "      <th>three</th>\n",
        "      <th>four</th>\n",
        "      <th>five</th>\n",
        "      <th>timestamp</th>\n",
        "    </tr>\n",
        "  </thead>\n",
        "  <tbody>\n",
        "    <tr>\n",
        "      <th>a</th>\n",
        "      <td> 0.493574</td>\n",
        "      <td> 0.690375</td>\n",
        "      <td> 0.338309</td>\n",
        "      <td> bar</td>\n",
        "      <td> True</td>\n",
        "      <td>2015-08-08</td>\n",
        "    </tr>\n",
        "    <tr>\n",
        "      <th>c</th>\n",
        "      <td> 0.940038</td>\n",
        "      <td> 0.545834</td>\n",
        "      <td> 0.963170</td>\n",
        "      <td> bar</td>\n",
        "      <td> True</td>\n",
        "      <td>2015-08-08</td>\n",
        "    </tr>\n",
        "    <tr>\n",
        "      <th>e</th>\n",
        "      <td> 0.674076</td>\n",
        "      <td> 0.518232</td>\n",
        "      <td> 0.366761</td>\n",
        "      <td> bar</td>\n",
        "      <td> True</td>\n",
        "      <td>2015-08-08</td>\n",
        "    </tr>\n",
        "    <tr>\n",
        "      <th>f</th>\n",
        "      <td> 0.015938</td>\n",
        "      <td> 0.786997</td>\n",
        "      <td> 0.184278</td>\n",
        "      <td> bar</td>\n",
        "      <td> True</td>\n",
        "      <td>2015-08-08</td>\n",
        "    </tr>\n",
        "    <tr>\n",
        "      <th>h</th>\n",
        "      <td> 0.923214</td>\n",
        "      <td> 0.462628</td>\n",
        "      <td> 0.749403</td>\n",
        "      <td> bar</td>\n",
        "      <td> True</td>\n",
        "      <td>2015-08-08</td>\n",
        "    </tr>\n",
        "  </tbody>\n",
        "</table>\n",
        "</div>"
       ],
       "metadata": {},
       "output_type": "pyout",
       "prompt_number": 25,
       "text": [
        "        one       two     three four  five  timestamp\n",
        "a  0.493574  0.690375  0.338309  bar  True 2015-08-08\n",
        "c  0.940038  0.545834  0.963170  bar  True 2015-08-08\n",
        "e  0.674076  0.518232  0.366761  bar  True 2015-08-08\n",
        "f  0.015938  0.786997  0.184278  bar  True 2015-08-08\n",
        "h  0.923214  0.462628  0.749403  bar  True 2015-08-08"
       ]
      }
     ],
     "prompt_number": 25
    },
    {
     "cell_type": "code",
     "collapsed": false,
     "input": [
      "df2.ix[['a','c','h'],['one','timestamp']] = np.nan"
     ],
     "language": "python",
     "metadata": {},
     "outputs": [],
     "prompt_number": 26
    },
    {
     "cell_type": "code",
     "collapsed": false,
     "input": [
      "df2"
     ],
     "language": "python",
     "metadata": {},
     "outputs": [
      {
       "html": [
        "<div style=\"max-height:1000px;max-width:1500px;overflow:auto;\">\n",
        "<table border=\"1\" class=\"dataframe\">\n",
        "  <thead>\n",
        "    <tr style=\"text-align: right;\">\n",
        "      <th></th>\n",
        "      <th>one</th>\n",
        "      <th>two</th>\n",
        "      <th>three</th>\n",
        "      <th>four</th>\n",
        "      <th>five</th>\n",
        "      <th>timestamp</th>\n",
        "    </tr>\n",
        "  </thead>\n",
        "  <tbody>\n",
        "    <tr>\n",
        "      <th>a</th>\n",
        "      <td>      NaN</td>\n",
        "      <td> 0.690375</td>\n",
        "      <td> 0.338309</td>\n",
        "      <td> bar</td>\n",
        "      <td> True</td>\n",
        "      <td>       NaT</td>\n",
        "    </tr>\n",
        "    <tr>\n",
        "      <th>c</th>\n",
        "      <td>      NaN</td>\n",
        "      <td> 0.545834</td>\n",
        "      <td> 0.963170</td>\n",
        "      <td> bar</td>\n",
        "      <td> True</td>\n",
        "      <td>       NaT</td>\n",
        "    </tr>\n",
        "    <tr>\n",
        "      <th>e</th>\n",
        "      <td> 0.674076</td>\n",
        "      <td> 0.518232</td>\n",
        "      <td> 0.366761</td>\n",
        "      <td> bar</td>\n",
        "      <td> True</td>\n",
        "      <td>2015-08-08</td>\n",
        "    </tr>\n",
        "    <tr>\n",
        "      <th>f</th>\n",
        "      <td> 0.015938</td>\n",
        "      <td> 0.786997</td>\n",
        "      <td> 0.184278</td>\n",
        "      <td> bar</td>\n",
        "      <td> True</td>\n",
        "      <td>2015-08-08</td>\n",
        "    </tr>\n",
        "    <tr>\n",
        "      <th>h</th>\n",
        "      <td>      NaN</td>\n",
        "      <td> 0.462628</td>\n",
        "      <td> 0.749403</td>\n",
        "      <td> bar</td>\n",
        "      <td> True</td>\n",
        "      <td>       NaT</td>\n",
        "    </tr>\n",
        "  </tbody>\n",
        "</table>\n",
        "</div>"
       ],
       "metadata": {},
       "output_type": "pyout",
       "prompt_number": 27,
       "text": [
        "        one       two     three four  five  timestamp\n",
        "a       NaN  0.690375  0.338309  bar  True        NaT\n",
        "c       NaN  0.545834  0.963170  bar  True        NaT\n",
        "e  0.674076  0.518232  0.366761  bar  True 2015-08-08\n",
        "f  0.015938  0.786997  0.184278  bar  True 2015-08-08\n",
        "h       NaN  0.462628  0.749403  bar  True        NaT"
       ]
      }
     ],
     "prompt_number": 27
    },
    {
     "cell_type": "code",
     "collapsed": false,
     "input": [
      "df2.get_dtype_counts()"
     ],
     "language": "python",
     "metadata": {},
     "outputs": [
      {
       "metadata": {},
       "output_type": "pyout",
       "prompt_number": 28,
       "text": [
        "bool              1\n",
        "datetime64[ns]    1\n",
        "float64           3\n",
        "object            1\n",
        "dtype: int64"
       ]
      }
     ],
     "prompt_number": 28
    },
    {
     "cell_type": "markdown",
     "metadata": {},
     "source": [
      "* Getting help"
     ]
    },
    {
     "cell_type": "code",
     "collapsed": false,
     "input": [
      "df2.get_dtype_counts?"
     ],
     "language": "python",
     "metadata": {},
     "outputs": [],
     "prompt_number": 31
    },
    {
     "cell_type": "markdown",
     "metadata": {},
     "source": [
      "## Inserting missing data"
     ]
    },
    {
     "cell_type": "code",
     "collapsed": false,
     "input": [
      "s = pd.Series([1, 2, 3])"
     ],
     "language": "python",
     "metadata": {},
     "outputs": [],
     "prompt_number": 32
    },
    {
     "cell_type": "code",
     "collapsed": false,
     "input": [
      "s.loc[0]=None"
     ],
     "language": "python",
     "metadata": {},
     "outputs": [],
     "prompt_number": 34
    },
    {
     "cell_type": "code",
     "collapsed": false,
     "input": [
      "s"
     ],
     "language": "python",
     "metadata": {},
     "outputs": [
      {
       "metadata": {},
       "output_type": "pyout",
       "prompt_number": 35,
       "text": [
        "0    None\n",
        "1       2\n",
        "2       3\n",
        "dtype: object"
       ]
      }
     ],
     "prompt_number": 35
    },
    {
     "cell_type": "code",
     "collapsed": false,
     "input": [
      "s = pd.Series([\"a\", \"b\", \"c\"])"
     ],
     "language": "python",
     "metadata": {},
     "outputs": [],
     "prompt_number": 36
    },
    {
     "cell_type": "code",
     "collapsed": false,
     "input": [
      "s.loc[0] = None"
     ],
     "language": "python",
     "metadata": {},
     "outputs": [],
     "prompt_number": 37
    },
    {
     "cell_type": "code",
     "collapsed": false,
     "input": [
      "s.loc[1] = np.nan"
     ],
     "language": "python",
     "metadata": {},
     "outputs": [],
     "prompt_number": 38
    },
    {
     "cell_type": "code",
     "collapsed": false,
     "input": [
      "s"
     ],
     "language": "python",
     "metadata": {},
     "outputs": [
      {
       "metadata": {},
       "output_type": "pyout",
       "prompt_number": 39,
       "text": [
        "0    None\n",
        "1     NaN\n",
        "2       c\n",
        "dtype: object"
       ]
      }
     ],
     "prompt_number": 39
    },
    {
     "cell_type": "code",
     "collapsed": false,
     "input": [
      "df"
     ],
     "language": "python",
     "metadata": {},
     "outputs": [
      {
       "html": [
        "<div style=\"max-height:1000px;max-width:1500px;overflow:auto;\">\n",
        "<table border=\"1\" class=\"dataframe\">\n",
        "  <thead>\n",
        "    <tr style=\"text-align: right;\">\n",
        "      <th></th>\n",
        "      <th>one</th>\n",
        "      <th>two</th>\n",
        "      <th>three</th>\n",
        "      <th>four</th>\n",
        "      <th>five</th>\n",
        "    </tr>\n",
        "  </thead>\n",
        "  <tbody>\n",
        "    <tr>\n",
        "      <th>a</th>\n",
        "      <td> 0.493574</td>\n",
        "      <td> 0.690375</td>\n",
        "      <td> 0.338309</td>\n",
        "      <td> bar</td>\n",
        "      <td> True</td>\n",
        "    </tr>\n",
        "    <tr>\n",
        "      <th>c</th>\n",
        "      <td> 0.940038</td>\n",
        "      <td> 0.545834</td>\n",
        "      <td> 0.963170</td>\n",
        "      <td> bar</td>\n",
        "      <td> True</td>\n",
        "    </tr>\n",
        "    <tr>\n",
        "      <th>e</th>\n",
        "      <td> 0.674076</td>\n",
        "      <td> 0.518232</td>\n",
        "      <td> 0.366761</td>\n",
        "      <td> bar</td>\n",
        "      <td> True</td>\n",
        "    </tr>\n",
        "    <tr>\n",
        "      <th>f</th>\n",
        "      <td> 0.015938</td>\n",
        "      <td> 0.786997</td>\n",
        "      <td> 0.184278</td>\n",
        "      <td> bar</td>\n",
        "      <td> True</td>\n",
        "    </tr>\n",
        "    <tr>\n",
        "      <th>h</th>\n",
        "      <td> 0.923214</td>\n",
        "      <td> 0.462628</td>\n",
        "      <td> 0.749403</td>\n",
        "      <td> bar</td>\n",
        "      <td> True</td>\n",
        "    </tr>\n",
        "  </tbody>\n",
        "</table>\n",
        "</div>"
       ],
       "metadata": {},
       "output_type": "pyout",
       "prompt_number": 41,
       "text": [
        "        one       two     three four  five\n",
        "a  0.493574  0.690375  0.338309  bar  True\n",
        "c  0.940038  0.545834  0.963170  bar  True\n",
        "e  0.674076  0.518232  0.366761  bar  True\n",
        "f  0.015938  0.786997  0.184278  bar  True\n",
        "h  0.923214  0.462628  0.749403  bar  True"
       ]
      }
     ],
     "prompt_number": 41
    },
    {
     "cell_type": "code",
     "collapsed": false,
     "input": [
      "df['one'].sum()"
     ],
     "language": "python",
     "metadata": {},
     "outputs": [
      {
       "metadata": {},
       "output_type": "pyout",
       "prompt_number": 42,
       "text": [
        "3.0468404382793168"
       ]
      }
     ],
     "prompt_number": 42
    },
    {
     "cell_type": "code",
     "collapsed": false,
     "input": [
      "df.mean(1)"
     ],
     "language": "python",
     "metadata": {},
     "outputs": [
      {
       "metadata": {},
       "output_type": "pyout",
       "prompt_number": 43,
       "text": [
        "a    0.630564\n",
        "c    0.862261\n",
        "e    0.639767\n",
        "f    0.496803\n",
        "h    0.783811\n",
        "dtype: float64"
       ]
      }
     ],
     "prompt_number": 43
    },
    {
     "cell_type": "code",
     "collapsed": false,
     "input": [
      "df.cumsum()"
     ],
     "language": "python",
     "metadata": {},
     "outputs": [
      {
       "html": [
        "<div style=\"max-height:1000px;max-width:1500px;overflow:auto;\">\n",
        "<table border=\"1\" class=\"dataframe\">\n",
        "  <thead>\n",
        "    <tr style=\"text-align: right;\">\n",
        "      <th></th>\n",
        "      <th>one</th>\n",
        "      <th>two</th>\n",
        "      <th>three</th>\n",
        "      <th>four</th>\n",
        "      <th>five</th>\n",
        "    </tr>\n",
        "  </thead>\n",
        "  <tbody>\n",
        "    <tr>\n",
        "      <th>a</th>\n",
        "      <td> 0.4935738</td>\n",
        "      <td> 0.6903748</td>\n",
        "      <td> 0.3383088</td>\n",
        "      <td>             bar</td>\n",
        "      <td> True</td>\n",
        "    </tr>\n",
        "    <tr>\n",
        "      <th>c</th>\n",
        "      <td>  1.433612</td>\n",
        "      <td>  1.236208</td>\n",
        "      <td>  1.301479</td>\n",
        "      <td>          barbar</td>\n",
        "      <td>    2</td>\n",
        "    </tr>\n",
        "    <tr>\n",
        "      <th>e</th>\n",
        "      <td>  2.107688</td>\n",
        "      <td>   1.75444</td>\n",
        "      <td>   1.66824</td>\n",
        "      <td>       barbarbar</td>\n",
        "      <td>    3</td>\n",
        "    </tr>\n",
        "    <tr>\n",
        "      <th>f</th>\n",
        "      <td>  2.123626</td>\n",
        "      <td>  2.541437</td>\n",
        "      <td>  1.852518</td>\n",
        "      <td>    barbarbarbar</td>\n",
        "      <td>    4</td>\n",
        "    </tr>\n",
        "    <tr>\n",
        "      <th>h</th>\n",
        "      <td>   3.04684</td>\n",
        "      <td>  3.004065</td>\n",
        "      <td>   2.60192</td>\n",
        "      <td> barbarbarbarbar</td>\n",
        "      <td>    5</td>\n",
        "    </tr>\n",
        "  </tbody>\n",
        "</table>\n",
        "</div>"
       ],
       "metadata": {},
       "output_type": "pyout",
       "prompt_number": 44,
       "text": [
        "         one        two      three             four  five\n",
        "a  0.4935738  0.6903748  0.3383088              bar  True\n",
        "c   1.433612   1.236208   1.301479           barbar     2\n",
        "e   2.107688    1.75444    1.66824        barbarbar     3\n",
        "f   2.123626   2.541437   1.852518     barbarbarbar     4\n",
        "h    3.04684   3.004065    2.60192  barbarbarbarbar     5"
       ]
      }
     ],
     "prompt_number": 44
    },
    {
     "cell_type": "code",
     "collapsed": false,
     "input": [
      "df.cumsum?"
     ],
     "language": "python",
     "metadata": {},
     "outputs": [],
     "prompt_number": 45
    },
    {
     "cell_type": "code",
     "collapsed": false,
     "input": [
      "df2"
     ],
     "language": "python",
     "metadata": {},
     "outputs": [
      {
       "html": [
        "<div style=\"max-height:1000px;max-width:1500px;overflow:auto;\">\n",
        "<table border=\"1\" class=\"dataframe\">\n",
        "  <thead>\n",
        "    <tr style=\"text-align: right;\">\n",
        "      <th></th>\n",
        "      <th>one</th>\n",
        "      <th>two</th>\n",
        "      <th>three</th>\n",
        "      <th>four</th>\n",
        "      <th>five</th>\n",
        "      <th>timestamp</th>\n",
        "    </tr>\n",
        "  </thead>\n",
        "  <tbody>\n",
        "    <tr>\n",
        "      <th>a</th>\n",
        "      <td>      NaN</td>\n",
        "      <td> 0.690375</td>\n",
        "      <td> 0.338309</td>\n",
        "      <td> bar</td>\n",
        "      <td> True</td>\n",
        "      <td>       NaT</td>\n",
        "    </tr>\n",
        "    <tr>\n",
        "      <th>c</th>\n",
        "      <td>      NaN</td>\n",
        "      <td> 0.545834</td>\n",
        "      <td> 0.963170</td>\n",
        "      <td> bar</td>\n",
        "      <td> True</td>\n",
        "      <td>       NaT</td>\n",
        "    </tr>\n",
        "    <tr>\n",
        "      <th>e</th>\n",
        "      <td> 0.674076</td>\n",
        "      <td> 0.518232</td>\n",
        "      <td> 0.366761</td>\n",
        "      <td> bar</td>\n",
        "      <td> True</td>\n",
        "      <td>2015-08-08</td>\n",
        "    </tr>\n",
        "    <tr>\n",
        "      <th>f</th>\n",
        "      <td> 0.015938</td>\n",
        "      <td> 0.786997</td>\n",
        "      <td> 0.184278</td>\n",
        "      <td> bar</td>\n",
        "      <td> True</td>\n",
        "      <td>2015-08-08</td>\n",
        "    </tr>\n",
        "    <tr>\n",
        "      <th>h</th>\n",
        "      <td>      NaN</td>\n",
        "      <td> 0.462628</td>\n",
        "      <td> 0.749403</td>\n",
        "      <td> bar</td>\n",
        "      <td> True</td>\n",
        "      <td>       NaT</td>\n",
        "    </tr>\n",
        "  </tbody>\n",
        "</table>\n",
        "</div>"
       ],
       "metadata": {},
       "output_type": "pyout",
       "prompt_number": 46,
       "text": [
        "        one       two     three four  five  timestamp\n",
        "a       NaN  0.690375  0.338309  bar  True        NaT\n",
        "c       NaN  0.545834  0.963170  bar  True        NaT\n",
        "e  0.674076  0.518232  0.366761  bar  True 2015-08-08\n",
        "f  0.015938  0.786997  0.184278  bar  True 2015-08-08\n",
        "h       NaN  0.462628  0.749403  bar  True        NaT"
       ]
      }
     ],
     "prompt_number": 46
    },
    {
     "cell_type": "code",
     "collapsed": false,
     "input": [
      "df2.fillna(0)"
     ],
     "language": "python",
     "metadata": {},
     "outputs": [
      {
       "html": [
        "<div style=\"max-height:1000px;max-width:1500px;overflow:auto;\">\n",
        "<table border=\"1\" class=\"dataframe\">\n",
        "  <thead>\n",
        "    <tr style=\"text-align: right;\">\n",
        "      <th></th>\n",
        "      <th>one</th>\n",
        "      <th>two</th>\n",
        "      <th>three</th>\n",
        "      <th>four</th>\n",
        "      <th>five</th>\n",
        "      <th>timestamp</th>\n",
        "    </tr>\n",
        "  </thead>\n",
        "  <tbody>\n",
        "    <tr>\n",
        "      <th>a</th>\n",
        "      <td> 0.000000</td>\n",
        "      <td> 0.690375</td>\n",
        "      <td> 0.338309</td>\n",
        "      <td> bar</td>\n",
        "      <td> True</td>\n",
        "      <td>1970-01-01</td>\n",
        "    </tr>\n",
        "    <tr>\n",
        "      <th>c</th>\n",
        "      <td> 0.000000</td>\n",
        "      <td> 0.545834</td>\n",
        "      <td> 0.963170</td>\n",
        "      <td> bar</td>\n",
        "      <td> True</td>\n",
        "      <td>1970-01-01</td>\n",
        "    </tr>\n",
        "    <tr>\n",
        "      <th>e</th>\n",
        "      <td> 0.674076</td>\n",
        "      <td> 0.518232</td>\n",
        "      <td> 0.366761</td>\n",
        "      <td> bar</td>\n",
        "      <td> True</td>\n",
        "      <td>2015-08-08</td>\n",
        "    </tr>\n",
        "    <tr>\n",
        "      <th>f</th>\n",
        "      <td> 0.015938</td>\n",
        "      <td> 0.786997</td>\n",
        "      <td> 0.184278</td>\n",
        "      <td> bar</td>\n",
        "      <td> True</td>\n",
        "      <td>2015-08-08</td>\n",
        "    </tr>\n",
        "    <tr>\n",
        "      <th>h</th>\n",
        "      <td> 0.000000</td>\n",
        "      <td> 0.462628</td>\n",
        "      <td> 0.749403</td>\n",
        "      <td> bar</td>\n",
        "      <td> True</td>\n",
        "      <td>1970-01-01</td>\n",
        "    </tr>\n",
        "  </tbody>\n",
        "</table>\n",
        "</div>"
       ],
       "metadata": {},
       "output_type": "pyout",
       "prompt_number": 47,
       "text": [
        "        one       two     three four  five  timestamp\n",
        "a  0.000000  0.690375  0.338309  bar  True 1970-01-01\n",
        "c  0.000000  0.545834  0.963170  bar  True 1970-01-01\n",
        "e  0.674076  0.518232  0.366761  bar  True 2015-08-08\n",
        "f  0.015938  0.786997  0.184278  bar  True 2015-08-08\n",
        "h  0.000000  0.462628  0.749403  bar  True 1970-01-01"
       ]
      }
     ],
     "prompt_number": 47
    },
    {
     "cell_type": "code",
     "collapsed": false,
     "input": [
      "df2['four'].fillna('missing')"
     ],
     "language": "python",
     "metadata": {},
     "outputs": [
      {
       "metadata": {},
       "output_type": "pyout",
       "prompt_number": 48,
       "text": [
        "a    bar\n",
        "c    bar\n",
        "e    bar\n",
        "f    bar\n",
        "h    bar\n",
        "Name: four, dtype: object"
       ]
      }
     ],
     "prompt_number": 48
    },
    {
     "cell_type": "code",
     "collapsed": false,
     "input": [
      "df"
     ],
     "language": "python",
     "metadata": {},
     "outputs": [
      {
       "html": [
        "<div style=\"max-height:1000px;max-width:1500px;overflow:auto;\">\n",
        "<table border=\"1\" class=\"dataframe\">\n",
        "  <thead>\n",
        "    <tr style=\"text-align: right;\">\n",
        "      <th></th>\n",
        "      <th>one</th>\n",
        "      <th>two</th>\n",
        "      <th>three</th>\n",
        "      <th>four</th>\n",
        "      <th>five</th>\n",
        "    </tr>\n",
        "  </thead>\n",
        "  <tbody>\n",
        "    <tr>\n",
        "      <th>a</th>\n",
        "      <td> 0.493574</td>\n",
        "      <td> 0.690375</td>\n",
        "      <td> 0.338309</td>\n",
        "      <td> bar</td>\n",
        "      <td> True</td>\n",
        "    </tr>\n",
        "    <tr>\n",
        "      <th>c</th>\n",
        "      <td> 0.940038</td>\n",
        "      <td> 0.545834</td>\n",
        "      <td> 0.963170</td>\n",
        "      <td> bar</td>\n",
        "      <td> True</td>\n",
        "    </tr>\n",
        "    <tr>\n",
        "      <th>e</th>\n",
        "      <td> 0.674076</td>\n",
        "      <td> 0.518232</td>\n",
        "      <td> 0.366761</td>\n",
        "      <td> bar</td>\n",
        "      <td> True</td>\n",
        "    </tr>\n",
        "    <tr>\n",
        "      <th>f</th>\n",
        "      <td> 0.015938</td>\n",
        "      <td> 0.786997</td>\n",
        "      <td> 0.184278</td>\n",
        "      <td> bar</td>\n",
        "      <td> True</td>\n",
        "    </tr>\n",
        "    <tr>\n",
        "      <th>h</th>\n",
        "      <td> 0.923214</td>\n",
        "      <td> 0.462628</td>\n",
        "      <td> 0.749403</td>\n",
        "      <td> bar</td>\n",
        "      <td> True</td>\n",
        "    </tr>\n",
        "  </tbody>\n",
        "</table>\n",
        "</div>"
       ],
       "metadata": {},
       "output_type": "pyout",
       "prompt_number": 49,
       "text": [
        "        one       two     three four  five\n",
        "a  0.493574  0.690375  0.338309  bar  True\n",
        "c  0.940038  0.545834  0.963170  bar  True\n",
        "e  0.674076  0.518232  0.366761  bar  True\n",
        "f  0.015938  0.786997  0.184278  bar  True\n",
        "h  0.923214  0.462628  0.749403  bar  True"
       ]
      }
     ],
     "prompt_number": 49
    },
    {
     "cell_type": "code",
     "collapsed": false,
     "input": [
      "df.fillna(method='pad')"
     ],
     "language": "python",
     "metadata": {},
     "outputs": [
      {
       "html": [
        "<div style=\"max-height:1000px;max-width:1500px;overflow:auto;\">\n",
        "<table border=\"1\" class=\"dataframe\">\n",
        "  <thead>\n",
        "    <tr style=\"text-align: right;\">\n",
        "      <th></th>\n",
        "      <th>one</th>\n",
        "      <th>two</th>\n",
        "      <th>three</th>\n",
        "      <th>four</th>\n",
        "      <th>five</th>\n",
        "    </tr>\n",
        "  </thead>\n",
        "  <tbody>\n",
        "    <tr>\n",
        "      <th>a</th>\n",
        "      <td> 0.493574</td>\n",
        "      <td> 0.690375</td>\n",
        "      <td> 0.338309</td>\n",
        "      <td> bar</td>\n",
        "      <td> True</td>\n",
        "    </tr>\n",
        "    <tr>\n",
        "      <th>c</th>\n",
        "      <td> 0.940038</td>\n",
        "      <td> 0.545834</td>\n",
        "      <td> 0.963170</td>\n",
        "      <td> bar</td>\n",
        "      <td> True</td>\n",
        "    </tr>\n",
        "    <tr>\n",
        "      <th>e</th>\n",
        "      <td> 0.674076</td>\n",
        "      <td> 0.518232</td>\n",
        "      <td> 0.366761</td>\n",
        "      <td> bar</td>\n",
        "      <td> True</td>\n",
        "    </tr>\n",
        "    <tr>\n",
        "      <th>f</th>\n",
        "      <td> 0.015938</td>\n",
        "      <td> 0.786997</td>\n",
        "      <td> 0.184278</td>\n",
        "      <td> bar</td>\n",
        "      <td> True</td>\n",
        "    </tr>\n",
        "    <tr>\n",
        "      <th>h</th>\n",
        "      <td> 0.923214</td>\n",
        "      <td> 0.462628</td>\n",
        "      <td> 0.749403</td>\n",
        "      <td> bar</td>\n",
        "      <td> True</td>\n",
        "    </tr>\n",
        "  </tbody>\n",
        "</table>\n",
        "</div>"
       ],
       "metadata": {},
       "output_type": "pyout",
       "prompt_number": 50,
       "text": [
        "        one       two     three four  five\n",
        "a  0.493574  0.690375  0.338309  bar  True\n",
        "c  0.940038  0.545834  0.963170  bar  True\n",
        "e  0.674076  0.518232  0.366761  bar  True\n",
        "f  0.015938  0.786997  0.184278  bar  True\n",
        "h  0.923214  0.462628  0.749403  bar  True"
       ]
      }
     ],
     "prompt_number": 50
    },
    {
     "cell_type": "code",
     "collapsed": false,
     "input": [
      "df.fillna(method='pad', limit=1)"
     ],
     "language": "python",
     "metadata": {},
     "outputs": [
      {
       "html": [
        "<div style=\"max-height:1000px;max-width:1500px;overflow:auto;\">\n",
        "<table border=\"1\" class=\"dataframe\">\n",
        "  <thead>\n",
        "    <tr style=\"text-align: right;\">\n",
        "      <th></th>\n",
        "      <th>one</th>\n",
        "      <th>two</th>\n",
        "      <th>three</th>\n",
        "      <th>four</th>\n",
        "      <th>five</th>\n",
        "    </tr>\n",
        "  </thead>\n",
        "  <tbody>\n",
        "    <tr>\n",
        "      <th>a</th>\n",
        "      <td> 0.493574</td>\n",
        "      <td> 0.690375</td>\n",
        "      <td> 0.338309</td>\n",
        "      <td> bar</td>\n",
        "      <td> True</td>\n",
        "    </tr>\n",
        "    <tr>\n",
        "      <th>c</th>\n",
        "      <td> 0.940038</td>\n",
        "      <td> 0.545834</td>\n",
        "      <td> 0.963170</td>\n",
        "      <td> bar</td>\n",
        "      <td> True</td>\n",
        "    </tr>\n",
        "    <tr>\n",
        "      <th>e</th>\n",
        "      <td> 0.674076</td>\n",
        "      <td> 0.518232</td>\n",
        "      <td> 0.366761</td>\n",
        "      <td> bar</td>\n",
        "      <td> True</td>\n",
        "    </tr>\n",
        "    <tr>\n",
        "      <th>f</th>\n",
        "      <td> 0.015938</td>\n",
        "      <td> 0.786997</td>\n",
        "      <td> 0.184278</td>\n",
        "      <td> bar</td>\n",
        "      <td> True</td>\n",
        "    </tr>\n",
        "    <tr>\n",
        "      <th>h</th>\n",
        "      <td> 0.923214</td>\n",
        "      <td> 0.462628</td>\n",
        "      <td> 0.749403</td>\n",
        "      <td> bar</td>\n",
        "      <td> True</td>\n",
        "    </tr>\n",
        "  </tbody>\n",
        "</table>\n",
        "</div>"
       ],
       "metadata": {},
       "output_type": "pyout",
       "prompt_number": 51,
       "text": [
        "        one       two     three four  five\n",
        "a  0.493574  0.690375  0.338309  bar  True\n",
        "c  0.940038  0.545834  0.963170  bar  True\n",
        "e  0.674076  0.518232  0.366761  bar  True\n",
        "f  0.015938  0.786997  0.184278  bar  True\n",
        "h  0.923214  0.462628  0.749403  bar  True"
       ]
      }
     ],
     "prompt_number": 51
    },
    {
     "cell_type": "markdown",
     "metadata": {},
     "source": [
      "## Interpolation"
     ]
    },
    {
     "cell_type": "code",
     "collapsed": false,
     "input": [
      "pd.tseries()"
     ],
     "language": "python",
     "metadata": {},
     "outputs": [
      {
       "ename": "TypeError",
       "evalue": "'module' object is not callable",
       "output_type": "pyerr",
       "traceback": [
        "\u001b[1;31m---------------------------------------------------------------------------\u001b[0m\n\u001b[1;31mTypeError\u001b[0m                                 Traceback (most recent call last)",
        "\u001b[1;32m<ipython-input-53-e9f0563fd4e5>\u001b[0m in \u001b[0;36m<module>\u001b[1;34m()\u001b[0m\n\u001b[1;32m----> 1\u001b[1;33m \u001b[0mpd\u001b[0m\u001b[1;33m.\u001b[0m\u001b[0mtseries\u001b[0m\u001b[1;33m(\u001b[0m\u001b[1;33m)\u001b[0m\u001b[1;33m\u001b[0m\u001b[0m\n\u001b[0m",
        "\u001b[1;31mTypeError\u001b[0m: 'module' object is not callable"
       ]
      }
     ],
     "prompt_number": 53
    },
    {
     "cell_type": "code",
     "collapsed": false,
     "input": [],
     "language": "python",
     "metadata": {},
     "outputs": []
    }
   ],
   "metadata": {}
  }
 ]
}